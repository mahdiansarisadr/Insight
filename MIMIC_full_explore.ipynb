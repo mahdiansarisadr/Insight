{
 "cells": [
  {
   "cell_type": "code",
   "execution_count": 1,
   "metadata": {
    "collapsed": false
   },
   "outputs": [
    {
     "name": "stdout",
     "output_type": "stream",
     "text": [
      "Populating the interactive namespace from numpy and matplotlib\n"
     ]
    }
   ],
   "source": [
    "from sqlalchemy import create_engine\n",
    "from sqlalchemy_utils import database_exists, create_database\n",
    "import psycopg2\n",
    "import pandas as pd\n",
    "import seaborn as sns\n",
    "import imblearn\n",
    "sns.set_context('poster')\n",
    "\n",
    "%pylab inline"
   ]
  },
  {
   "cell_type": "code",
   "execution_count": 2,
   "metadata": {
    "collapsed": false
   },
   "outputs": [],
   "source": [
    "%load_ext autoreload"
   ]
  },
  {
   "cell_type": "code",
   "execution_count": 3,
   "metadata": {
    "collapsed": true
   },
   "outputs": [],
   "source": [
    "%autoreload 2"
   ]
  },
  {
   "cell_type": "code",
   "execution_count": 4,
   "metadata": {
    "collapsed": false
   },
   "outputs": [],
   "source": [
    "from application import get_sql_dataset\n",
    "from application import prepare_dataset"
   ]
  },
  {
   "cell_type": "markdown",
   "metadata": {},
   "source": [
    "# Cells for EDA directly from SQL database"
   ]
  },
  {
   "cell_type": "code",
   "execution_count": 5,
   "metadata": {
    "collapsed": false
   },
   "outputs": [
    {
     "name": "stdout",
     "output_type": "stream",
     "text": [
      "postgresql://nwespe@localhost/mimic\n"
     ]
    }
   ],
   "source": [
    "con = get_sql_dataset.connect_to_sql()"
   ]
  },
  {
   "cell_type": "code",
   "execution_count": 6,
   "metadata": {
    "collapsed": false
   },
   "outputs": [],
   "source": [
    "con = psycopg2.connect(database='mimic', user='nwespe', host='localhost')\n",
    "cur = con.cursor()\n",
    "cur.execute('SET search_path to mimiciii;') # + schema_name)"
   ]
  },
  {
   "cell_type": "code",
   "execution_count": null,
   "metadata": {
    "collapsed": false
   },
   "outputs": [],
   "source": [
    "sql_query = \"\"\"\n",
    "SELECT *\n",
    "FROM group_ab_prescriptions;\n",
    "\"\"\"\n",
    "group_admit_scripts = pd.read_sql_query(sql_query, con)  # "
   ]
  },
  {
   "cell_type": "code",
   "execution_count": null,
   "metadata": {
    "collapsed": false
   },
   "outputs": [],
   "source": [
    "group_admit_scripts.head()"
   ]
  },
  {
   "cell_type": "code",
   "execution_count": null,
   "metadata": {
    "collapsed": true
   },
   "outputs": [],
   "source": [
    "sql_query = \"\"\"\n",
    "SELECT *\n",
    "FROM classified_ab_scripts;\n",
    "\"\"\"\n",
    "classified_ab_scripts = pd.read_sql_query(sql_query, con)  # "
   ]
  },
  {
   "cell_type": "code",
   "execution_count": null,
   "metadata": {
    "collapsed": false
   },
   "outputs": [],
   "source": [
    "classified_ab_scripts.head()"
   ]
  },
  {
   "cell_type": "code",
   "execution_count": null,
   "metadata": {
    "collapsed": true
   },
   "outputs": [],
   "source": [
    "early_ab_scripts = classified_ab_scripts[classified_ab_scripts.day_prescribed < 4]"
   ]
  },
  {
   "cell_type": "code",
   "execution_count": null,
   "metadata": {
    "collapsed": false
   },
   "outputs": [],
   "source": [
    "consolidated_ab_scripts = early_ab_scripts.groupby(['subject_id', 'hadm_id', 'drug_group'], axis=1)"
   ]
  },
  {
   "cell_type": "code",
   "execution_count": null,
   "metadata": {
    "collapsed": true
   },
   "outputs": [],
   "source": []
  },
  {
   "cell_type": "code",
   "execution_count": null,
   "metadata": {
    "collapsed": true
   },
   "outputs": [],
   "source": [
    "ab_scripts_outcomes = classified_ab_scripts.merge(both_outcomes, on='hadm_id')"
   ]
  },
  {
   "cell_type": "code",
   "execution_count": null,
   "metadata": {
    "collapsed": false
   },
   "outputs": [],
   "source": [
    "ab_scripts_outcomes.head()"
   ]
  },
  {
   "cell_type": "code",
   "execution_count": null,
   "metadata": {
    "collapsed": false
   },
   "outputs": [],
   "source": [
    "ab_scripts_outcomes[(ab_scripts_outcomes.cdiff == 1) & (ab_scripts_outcomes.day_prescribed <=3)].drug_group.value_counts()"
   ]
  },
  {
   "cell_type": "code",
   "execution_count": null,
   "metadata": {
    "collapsed": false
   },
   "outputs": [],
   "source": [
    "ab_scripts_outcomes[(ab_scripts_outcomes.cdiff == 0) & (ab_scripts_outcomes.day_prescribed <=3)].drug_group.value_counts()"
   ]
  },
  {
   "cell_type": "code",
   "execution_count": null,
   "metadata": {
    "collapsed": true
   },
   "outputs": [],
   "source": [
    "from sklearn.preprocessing import LabelEncoder\n",
    "from sklearn.preprocessing import OneHotEncoder"
   ]
  },
  {
   "cell_type": "code",
   "execution_count": null,
   "metadata": {
    "collapsed": true
   },
   "outputs": [],
   "source": [
    "encoder = LabelEncoder()\n",
    "ab_cats = ab_scripts_outcomes.drug_group\n",
    "ab_cats_encoded = encoder.fit_transform(ab_cats)"
   ]
  },
  {
   "cell_type": "code",
   "execution_count": null,
   "metadata": {
    "collapsed": false
   },
   "outputs": [],
   "source": [
    "encoder.classes_"
   ]
  },
  {
   "cell_type": "code",
   "execution_count": null,
   "metadata": {
    "collapsed": false
   },
   "outputs": [],
   "source": [
    "encoder = LabelEncoder()\n",
    "ab_cats = classified_ab_scripts.drug_group\n",
    "ab_cats_encoded = encoder.fit_transform(ab_cats)\n",
    "\n",
    "encoder = OneHotEncoder()\n",
    "ab_cats_1hot = encoder.fit_transform(ab_cats_encoded.reshape(-1, 1))"
   ]
  },
  {
   "cell_type": "code",
   "execution_count": null,
   "metadata": {
    "collapsed": false
   },
   "outputs": [],
   "source": [
    "ab_cats_1hot"
   ]
  },
  {
   "cell_type": "code",
   "execution_count": null,
   "metadata": {
    "collapsed": false
   },
   "outputs": [],
   "source": [
    "early_ab_scripts.head()"
   ]
  },
  {
   "cell_type": "code",
   "execution_count": null,
   "metadata": {
    "collapsed": true
   },
   "outputs": [],
   "source": [
    "from sklearn.preprocessing import MultiLabelBinarizer"
   ]
  },
  {
   "cell_type": "code",
   "execution_count": null,
   "metadata": {
    "collapsed": true
   },
   "outputs": [],
   "source": [
    "def drug_groups_set(df, x): # where x is row from df\n",
    "    # get drug_group from all rows where hadm_id matches\n",
    "    all_groups = df[(df.hadm_id == x.hadm_id)].drug_group\n",
    "    all_groups2 = all_groups.apply(pd.Series).stack().tolist()\n",
    "    unique_group = set(all_groups2)\n",
    "    return tuple(unique_group)\n"
   ]
  },
  {
   "cell_type": "code",
   "execution_count": null,
   "metadata": {
    "collapsed": false
   },
   "outputs": [],
   "source": [
    "drug_tuples = early_ab_scripts[['hadm_id', 'drug_group']]\n",
    "drug_tuples['drug_group'] = early_ab_scripts.apply(lambda x: drug_groups_set(early_ab_scripts, x), axis=1)"
   ]
  },
  {
   "cell_type": "code",
   "execution_count": null,
   "metadata": {
    "collapsed": false
   },
   "outputs": [],
   "source": [
    "drugs = drug_tuples.drop_duplicates()"
   ]
  },
  {
   "cell_type": "code",
   "execution_count": null,
   "metadata": {
    "collapsed": false
   },
   "outputs": [],
   "source": [
    "drugs.drug_group.value_counts()"
   ]
  },
  {
   "cell_type": "code",
   "execution_count": null,
   "metadata": {
    "collapsed": false
   },
   "outputs": [],
   "source": [
    "drugs.head()"
   ]
  },
  {
   "cell_type": "code",
   "execution_count": null,
   "metadata": {
    "collapsed": false
   },
   "outputs": [],
   "source": [
    "cdiff_outcomes.head()"
   ]
  },
  {
   "cell_type": "code",
   "execution_count": null,
   "metadata": {
    "collapsed": false
   },
   "outputs": [],
   "source": [
    "labeled_data = cdiff_outcomes.merge(drugs, how='left', on='hadm_id') #.fillna(value='None')"
   ]
  },
  {
   "cell_type": "code",
   "execution_count": null,
   "metadata": {
    "collapsed": false
   },
   "outputs": [],
   "source": [
    "labeled_data.head()"
   ]
  },
  {
   "cell_type": "code",
   "execution_count": null,
   "metadata": {
    "collapsed": true
   },
   "outputs": [],
   "source": [
    "drugs_list = list(labeled_data.drug_group.values)"
   ]
  },
  {
   "cell_type": "code",
   "execution_count": null,
   "metadata": {
    "collapsed": false
   },
   "outputs": [],
   "source": [
    "type(drugs_list[0])"
   ]
  },
  {
   "cell_type": "code",
   "execution_count": null,
   "metadata": {
    "collapsed": false
   },
   "outputs": [],
   "source": [
    "drugs_nonans = [text if str(text) != 'nan' else ('None',) for text in drugs_list]"
   ]
  },
  {
   "cell_type": "code",
   "execution_count": null,
   "metadata": {
    "collapsed": false
   },
   "outputs": [],
   "source": [
    "drugs_nonans[:10]"
   ]
  },
  {
   "cell_type": "code",
   "execution_count": null,
   "metadata": {
    "collapsed": false
   },
   "outputs": [],
   "source": [
    "encoder = MultiLabelBinarizer()\n",
    "ab_cats_encoded = encoder.fit_transform(drugs_nonans)"
   ]
  },
  {
   "cell_type": "code",
   "execution_count": null,
   "metadata": {
    "collapsed": false
   },
   "outputs": [],
   "source": [
    "ab_cats_encoded"
   ]
  },
  {
   "cell_type": "code",
   "execution_count": null,
   "metadata": {
    "collapsed": false
   },
   "outputs": [],
   "source": [
    "encoder.classes_.tolist()"
   ]
  },
  {
   "cell_type": "code",
   "execution_count": null,
   "metadata": {
    "collapsed": false
   },
   "outputs": [],
   "source": [
    "cdiff_outcomes.head()"
   ]
  },
  {
   "cell_type": "code",
   "execution_count": null,
   "metadata": {
    "collapsed": true
   },
   "outputs": [],
   "source": []
  },
  {
   "cell_type": "code",
   "execution_count": null,
   "metadata": {
    "collapsed": true
   },
   "outputs": [],
   "source": [
    "drug_class_per_day = classified_ab_scripts.groupby(['subject_id', 'hadm_id', 'day_prescribed'], axis=0)['drug_class'].aggregate(lambda x: tuple(x)).reset_index()"
   ]
  },
  {
   "cell_type": "code",
   "execution_count": null,
   "metadata": {
    "collapsed": false
   },
   "outputs": [],
   "source": [
    "drug_class_per_day.head()"
   ]
  },
  {
   "cell_type": "code",
   "execution_count": null,
   "metadata": {
    "collapsed": true
   },
   "outputs": [],
   "source": [
    "def cumulative_class_number(x): # where x is row from df\n",
    "    # get drug_name tuples from all rows where hadm_id matches and day_prescribed is <= x.day_prescribed\n",
    "    all_classes = drug_class_per_day[(drug_class_per_day.subject_id == x.subject_id) & \n",
    "                                     (drug_class_per_day.hadm_id == x.hadm_id) & \n",
    "                                     (drug_class_per_day.day_prescribed <= x.day_prescribed)].drug_class\n",
    "    all_classes2 = all_classes.apply(pd.Series).stack().tolist()\n",
    "    unique_drugs = set(all_classes2)\n",
    "    return len(unique_drugs)\n"
   ]
  },
  {
   "cell_type": "code",
   "execution_count": null,
   "metadata": {
    "collapsed": false
   },
   "outputs": [],
   "source": [
    "drug_class_per_day['cumulative_number_classes'] = drug_class_per_day.apply(lambda x: cumulative_class_number(x), axis=1)"
   ]
  },
  {
   "cell_type": "code",
   "execution_count": null,
   "metadata": {
    "collapsed": false
   },
   "outputs": [],
   "source": [
    "drug_class_per_day.head()"
   ]
  },
  {
   "cell_type": "code",
   "execution_count": null,
   "metadata": {
    "collapsed": true
   },
   "outputs": [],
   "source": [
    "drug_class_per_day.to_csv('/Users/nwespe/Desktop/drug_class_per_day.csv')"
   ]
  },
  {
   "cell_type": "code",
   "execution_count": null,
   "metadata": {
    "collapsed": true
   },
   "outputs": [],
   "source": []
  },
  {
   "cell_type": "code",
   "execution_count": null,
   "metadata": {
    "collapsed": false
   },
   "outputs": [],
   "source": [
    "trimmed_scripts = classified_ab_scripts[['subject_id', 'hadm_id', 'day_prescribed', 'drug_name']]"
   ]
  },
  {
   "cell_type": "code",
   "execution_count": null,
   "metadata": {
    "collapsed": false
   },
   "outputs": [],
   "source": [
    "trimmed_scripts.head()"
   ]
  },
  {
   "cell_type": "code",
   "execution_count": null,
   "metadata": {
    "collapsed": false
   },
   "outputs": [],
   "source": [
    "trimmed_scripts.drug_name.value_counts()"
   ]
  },
  {
   "cell_type": "code",
   "execution_count": null,
   "metadata": {
    "collapsed": true
   },
   "outputs": [],
   "source": []
  },
  {
   "cell_type": "code",
   "execution_count": null,
   "metadata": {
    "collapsed": false
   },
   "outputs": [],
   "source": [
    "drugs_per_day = trimmed_scripts.groupby(['subject_id', 'hadm_id', 'day_prescribed'], axis=0).aggregate(lambda x: tuple(x)).reset_index()"
   ]
  },
  {
   "cell_type": "code",
   "execution_count": null,
   "metadata": {
    "collapsed": false
   },
   "outputs": [],
   "source": [
    "drugs_per_day.head() # .day_prescribed.value_counts() "
   ]
  },
  {
   "cell_type": "code",
   "execution_count": null,
   "metadata": {
    "collapsed": false
   },
   "outputs": [],
   "source": [
    "data = drugs_per_day[(drugs_per_day.day_prescribed > 0) & (drugs_per_day.day_prescribed < 11)].day_prescribed\n",
    "#bins = np.linspace(1, 11, 11)\n",
    "plt.hist(data, bins=bins)"
   ]
  },
  {
   "cell_type": "code",
   "execution_count": null,
   "metadata": {
    "collapsed": true
   },
   "outputs": [],
   "source": [
    "def cumulative_number(x): # where x is row from df\n",
    "    # get drug_name tuples from all rows where hadm_id matches and day_prescribed is <= x.day_prescribed\n",
    "    all_names = drugs_per_day[(drugs_per_day.subject_id == x.subject_id) & (drugs_per_day.hadm_id == x.hadm_id) & (drugs_per_day.day_prescribed <= x.day_prescribed)].drug_name\n",
    "    all_names2 = all_names.apply(pd.Series).stack().tolist()\n",
    "    unique_drugs = set(all_names2)\n",
    "    return len(unique_drugs)\n"
   ]
  },
  {
   "cell_type": "code",
   "execution_count": null,
   "metadata": {
    "collapsed": false
   },
   "outputs": [],
   "source": [
    "drugs_per_day['cumulative_number'] = drugs_per_day.apply(lambda x: cumulative_number(x), axis=1)"
   ]
  },
  {
   "cell_type": "code",
   "execution_count": null,
   "metadata": {
    "collapsed": false
   },
   "outputs": [],
   "source": [
    "drugs_per_day.head()"
   ]
  },
  {
   "cell_type": "code",
   "execution_count": null,
   "metadata": {
    "collapsed": true
   },
   "outputs": [],
   "source": [
    "drugs_per_day.to_csv('/Users/nwespe/Desktop/drugs_per_day.csv')"
   ]
  },
  {
   "cell_type": "code",
   "execution_count": null,
   "metadata": {
    "collapsed": false
   },
   "outputs": [],
   "source": [
    "cumulative_drug_class = drug_class_per_day.drop(['drug_class'], axis=1)\n",
    "cumulative_drug_class = cumulative_drug_class.groupby(['subject_id', 'hadm_id'])['cumulative_number_classes'].max().reset_index()\n",
    "cumulative_drug_class.head()"
   ]
  },
  {
   "cell_type": "code",
   "execution_count": null,
   "metadata": {
    "collapsed": true
   },
   "outputs": [],
   "source": [
    "drugs_outcomes = cumulative_drug_class.merge(both_outcomes, on='hadm_id')"
   ]
  },
  {
   "cell_type": "code",
   "execution_count": null,
   "metadata": {
    "collapsed": false
   },
   "outputs": [],
   "source": [
    "drugs_outcomes.head()"
   ]
  },
  {
   "cell_type": "code",
   "execution_count": null,
   "metadata": {
    "collapsed": false
   },
   "outputs": [],
   "source": [
    "#sns.lmplot(, y='', data=cumulative_drugs)\n",
    "#f, ax = plt.subplots(figsize=(8, 8))\n",
    "#ax.set_aspect(\"equal\")\n",
    "\n",
    "# Draw the two density plots\n",
    "# ax = \n",
    "g = sns.FacetGrid(drugs_outcomes, row=\"cdiff\", col=\"expire\", margin_titles=True, sharey=True)\n",
    "#bins = np.linspace(0, 24, 12)\n",
    "g.map(sns.kdeplot, 'cumulative_number', bw=0.5) #, bins=bins, lw=0\n",
    "#sns.violinplot(x='flag', y='cumulative_number', data=drugs_outcomes)\n",
    "                  #hospital_expire_\n",
    "                 #cmap=\"Reds\", shade=True, shade_lowest=False)"
   ]
  },
  {
   "cell_type": "code",
   "execution_count": null,
   "metadata": {
    "collapsed": false
   },
   "outputs": [],
   "source": [
    "g = sns.FacetGrid(drugs_outcomes, row=\"cdiff\", col=\"expire\", margin_titles=True, sharey=True)\n",
    "#bins = np.linspace(0, 24, 12)\n",
    "g.map(sns.kdeplot, 'cumulative_number_classes', bw=0.5) #, bins=bins, lw=0"
   ]
  },
  {
   "cell_type": "code",
   "execution_count": null,
   "metadata": {
    "collapsed": false
   },
   "outputs": [],
   "source": [
    "sql_query = \"\"\"\n",
    "SELECT *\n",
    "FROM ab_prescriptions;\n",
    "\"\"\"\n",
    "admit_scripts = pd.read_sql_query(sql_query, con)  # "
   ]
  },
  {
   "cell_type": "code",
   "execution_count": null,
   "metadata": {
    "collapsed": false
   },
   "outputs": [],
   "source": [
    "admit_scripts[admit_scripts.subject_id == 54642]"
   ]
  },
  {
   "cell_type": "code",
   "execution_count": null,
   "metadata": {
    "collapsed": false
   },
   "outputs": [],
   "source": [
    "admit_scripts['admitdate'] = [d.date() for d in admit_scripts['admittime']]\n",
    "admit_scripts['admitdate'] = admit_scripts['admitdate'].apply(lambda x: datetime64(x))\n",
    "admit_scripts['time_to_prescription'] = admit_scripts['startdate'] - admit_scripts['admitdate']"
   ]
  },
  {
   "cell_type": "code",
   "execution_count": null,
   "metadata": {
    "collapsed": false
   },
   "outputs": [],
   "source": [
    "sql_query = \"\"\"\n",
    "SELECT me.hadm_id, me.org_name, me.charttime, ai.admittime\n",
    ", ROUND( (CAST(EXTRACT(epoch FROM me.charttime - ai.admittime)/(60*60*24) AS numeric)), 4) AS cdiff_timelag\n",
    "FROM microbiologyevents me\n",
    "JOIN admit_info ai ON ai.hadm_id = me.hadm_id\n",
    "WHERE me.org_name ILIKE '%DIFF%';\"\"\"\n",
    "hadm_ids = tuple(outcome_ids)\n",
    "#AND ai.hadm_id IN %s\n",
    "cdiff_outcomes_times = pd.read_sql_query(sql_query, con) #cur.execute(sql_query);\n",
    "#all_cdiff_pts = pd.read_sql_query(sql_query, con)\n",
    "#JOIN mimiciii.admit_info ai ON ai.hadm_id = me.hadm_id  (hadm_ids,)"
   ]
  },
  {
   "cell_type": "code",
   "execution_count": 10,
   "metadata": {
    "collapsed": false
   },
   "outputs": [],
   "source": [
    "sql_query = \"\"\"\n",
    "SELECT ai.subject_id, ai.hadm_id, ai.admittime, dia.icd9_code, dia.seq_num\n",
    "FROM admissions ai\n",
    "JOIN diagnoses_icd dia ON ai.hadm_id = dia.hadm_id\n",
    "WHERE dia.icd9_code = '00845';\"\"\"\n",
    "\n",
    "cdiff_patients = pd.read_sql_query(sql_query, con) #cur.execute(sql_query);\n"
   ]
  },
  {
   "cell_type": "code",
   "execution_count": 11,
   "metadata": {
    "collapsed": false
   },
   "outputs": [
    {
     "data": {
      "text/html": [
       "<div>\n",
       "<style>\n",
       "    .dataframe thead tr:only-child th {\n",
       "        text-align: right;\n",
       "    }\n",
       "\n",
       "    .dataframe thead th {\n",
       "        text-align: left;\n",
       "    }\n",
       "\n",
       "    .dataframe tbody tr th {\n",
       "        vertical-align: top;\n",
       "    }\n",
       "</style>\n",
       "<table border=\"1\" class=\"dataframe\">\n",
       "  <thead>\n",
       "    <tr style=\"text-align: right;\">\n",
       "      <th></th>\n",
       "      <th>subject_id</th>\n",
       "      <th>hadm_id</th>\n",
       "      <th>admittime</th>\n",
       "      <th>icd9_code</th>\n",
       "      <th>seq_num</th>\n",
       "    </tr>\n",
       "  </thead>\n",
       "  <tbody>\n",
       "    <tr>\n",
       "      <th>0</th>\n",
       "      <td>21</td>\n",
       "      <td>111970</td>\n",
       "      <td>2135-01-30 20:50:00</td>\n",
       "      <td>00845</td>\n",
       "      <td>9</td>\n",
       "    </tr>\n",
       "    <tr>\n",
       "      <th>1</th>\n",
       "      <td>195</td>\n",
       "      <td>118936</td>\n",
       "      <td>2167-11-29 16:25:00</td>\n",
       "      <td>00845</td>\n",
       "      <td>4</td>\n",
       "    </tr>\n",
       "    <tr>\n",
       "      <th>2</th>\n",
       "      <td>243</td>\n",
       "      <td>129066</td>\n",
       "      <td>2140-02-16 14:40:00</td>\n",
       "      <td>00845</td>\n",
       "      <td>4</td>\n",
       "    </tr>\n",
       "    <tr>\n",
       "      <th>3</th>\n",
       "      <td>256</td>\n",
       "      <td>153771</td>\n",
       "      <td>2166-07-21 23:38:00</td>\n",
       "      <td>00845</td>\n",
       "      <td>1</td>\n",
       "    </tr>\n",
       "    <tr>\n",
       "      <th>4</th>\n",
       "      <td>395</td>\n",
       "      <td>137967</td>\n",
       "      <td>2127-06-16 01:33:00</td>\n",
       "      <td>00845</td>\n",
       "      <td>2</td>\n",
       "    </tr>\n",
       "  </tbody>\n",
       "</table>\n",
       "</div>"
      ],
      "text/plain": [
       "   subject_id  hadm_id           admittime icd9_code  seq_num\n",
       "0          21   111970 2135-01-30 20:50:00     00845        9\n",
       "1         195   118936 2167-11-29 16:25:00     00845        4\n",
       "2         243   129066 2140-02-16 14:40:00     00845        4\n",
       "3         256   153771 2166-07-21 23:38:00     00845        1\n",
       "4         395   137967 2127-06-16 01:33:00     00845        2"
      ]
     },
     "execution_count": 11,
     "metadata": {},
     "output_type": "execute_result"
    }
   ],
   "source": [
    "cdiff_patients.head()"
   ]
  },
  {
   "cell_type": "code",
   "execution_count": 12,
   "metadata": {
    "collapsed": false
   },
   "outputs": [
    {
     "data": {
      "text/plain": [
       "1444"
      ]
     },
     "execution_count": 12,
     "metadata": {},
     "output_type": "execute_result"
    }
   ],
   "source": [
    "len(cdiff_patients)"
   ]
  },
  {
   "cell_type": "code",
   "execution_count": 13,
   "metadata": {
    "collapsed": false
   },
   "outputs": [
    {
     "data": {
      "text/plain": [
       "1295"
      ]
     },
     "execution_count": 13,
     "metadata": {},
     "output_type": "execute_result"
    }
   ],
   "source": [
    "len(cdiff_patients[cdiff_patients.seq_num != 1])"
   ]
  },
  {
   "cell_type": "code",
   "execution_count": 14,
   "metadata": {
    "collapsed": true
   },
   "outputs": [],
   "source": [
    "cdiff_ids = list(cdiff_patients.hadm_id.values)"
   ]
  },
  {
   "cell_type": "code",
   "execution_count": 17,
   "metadata": {
    "collapsed": true
   },
   "outputs": [],
   "source": [
    "sql_query = \"\"\"\n",
    "SELECT ai.subject_id, ai.hadm_id, ai.admittime, dia.icd9_code, dia.seq_num\n",
    "FROM admissions ai\n",
    "JOIN diagnoses_icd dia ON ai.hadm_id = dia.hadm_id\n",
    "WHERE dia.seq_num = 1\n",
    "AND ai.hadm_id IN %s;\"\"\"\n",
    "hadm_ids = tuple(cdiff_ids)\n",
    "\n",
    "cdiff_pts_primary_code = cur.execute(sql_query, (hadm_ids,))\n",
    "\n",
    "#cdiff_patients = pd.read_sql_query(sql_query, con) #cur.execute(sql_query);\n"
   ]
  },
  {
   "cell_type": "code",
   "execution_count": 16,
   "metadata": {
    "collapsed": false
   },
   "outputs": [
    {
     "ename": "AttributeError",
     "evalue": "'NoneType' object has no attribute 'head'",
     "output_type": "error",
     "traceback": [
      "\u001b[0;31m---------------------------------------------------------------------------\u001b[0m",
      "\u001b[0;31mAttributeError\u001b[0m                            Traceback (most recent call last)",
      "\u001b[0;32m<ipython-input-16-8c56c971cb39>\u001b[0m in \u001b[0;36m<module>\u001b[0;34m()\u001b[0m\n\u001b[0;32m----> 1\u001b[0;31m \u001b[0mcdiff_pts_primary_code\u001b[0m\u001b[0;34m.\u001b[0m\u001b[0mhead\u001b[0m\u001b[0;34m(\u001b[0m\u001b[0;34m)\u001b[0m\u001b[0;34m\u001b[0m\u001b[0m\n\u001b[0m",
      "\u001b[0;31mAttributeError\u001b[0m: 'NoneType' object has no attribute 'head'"
     ]
    }
   ],
   "source": [
    "cdiff_pts_primary_code.head()"
   ]
  },
  {
   "cell_type": "code",
   "execution_count": 18,
   "metadata": {
    "collapsed": false
   },
   "outputs": [
    {
     "data": {
      "text/plain": [
       "[111970,\n",
       " 118936,\n",
       " 129066,\n",
       " 153771,\n",
       " 137967,\n",
       " 109185,\n",
       " 152166,\n",
       " 100262,\n",
       " 114791,\n",
       " 120522]"
      ]
     },
     "execution_count": 18,
     "metadata": {},
     "output_type": "execute_result"
    }
   ],
   "source": [
    "cdiff_ids[:10]"
   ]
  },
  {
   "cell_type": "code",
   "execution_count": null,
   "metadata": {
    "collapsed": false
   },
   "outputs": [],
   "source": [
    "cdiff_outcomes_times.cdiff_timelag.mean()"
   ]
  },
  {
   "cell_type": "code",
   "execution_count": null,
   "metadata": {
    "collapsed": false
   },
   "outputs": [],
   "source": [
    "len(hadm_ids) #[:3]"
   ]
  },
  {
   "cell_type": "code",
   "execution_count": null,
   "metadata": {
    "collapsed": true
   },
   "outputs": [],
   "source": [
    "myset_cdiff_times = cdiff_outcomes_times[cdiff_outcomes_times.hadm_id.isin(hadm_ids)]"
   ]
  },
  {
   "cell_type": "code",
   "execution_count": null,
   "metadata": {
    "collapsed": false
   },
   "outputs": [],
   "source": [
    "times = myset_cdiff_times.cdiff_timelag.dropna()\n",
    "bins=np.linspace(0, 20, 8)\n",
    "plt.hist(times, bins=bins)"
   ]
  },
  {
   "cell_type": "code",
   "execution_count": null,
   "metadata": {
    "collapsed": false
   },
   "outputs": [],
   "source": [
    "times.median(), times.mean()"
   ]
  },
  {
   "cell_type": "code",
   "execution_count": null,
   "metadata": {
    "collapsed": false
   },
   "outputs": [],
   "source": [
    "len(cdiff_ids)"
   ]
  },
  {
   "cell_type": "code",
   "execution_count": null,
   "metadata": {
    "collapsed": false
   },
   "outputs": [],
   "source": [
    "cdiff_outcomes.flag.value_counts()"
   ]
  },
  {
   "cell_type": "code",
   "execution_count": null,
   "metadata": {
    "collapsed": true
   },
   "outputs": [],
   "source": []
  },
  {
   "cell_type": "markdown",
   "metadata": {},
   "source": [
    "# now I want to figure out how many cdiff patients died in hospital"
   ]
  },
  {
   "cell_type": "code",
   "execution_count": null,
   "metadata": {
    "collapsed": true
   },
   "outputs": [],
   "source": [
    "infection_num_features = pd.read_sql_query('SELECT * FROM infection_num_features;', con)"
   ]
  },
  {
   "cell_type": "code",
   "execution_count": null,
   "metadata": {
    "collapsed": false
   },
   "outputs": [],
   "source": [
    "infection_num_features.head()"
   ]
  },
  {
   "cell_type": "code",
   "execution_count": null,
   "metadata": {
    "collapsed": true
   },
   "outputs": [],
   "source": [
    "all_outcomes = pd.read_sql_query('SELECT * FROM infection_outcomes;', con)\n",
    "cdiff_outcomes = pd.read_sql_query('SELECT * FROM cdiff_outcomes;', con)"
   ]
  },
  {
   "cell_type": "code",
   "execution_count": null,
   "metadata": {
    "collapsed": false
   },
   "outputs": [],
   "source": [
    "both_outcomes = all_outcomes.merge(cdiff_outcomes, on='hadm_id')\n",
    "both_outcomes.flag = both_outcomes.flag.astype(int)\n",
    "both_outcomes.rename(columns = {'hospital_expire_flag':'expire', 'flag':'cdiff'}, inplace = True)"
   ]
  },
  {
   "cell_type": "code",
   "execution_count": null,
   "metadata": {
    "collapsed": false
   },
   "outputs": [],
   "source": [
    "both_outcomes.head()"
   ]
  },
  {
   "cell_type": "code",
   "execution_count": null,
   "metadata": {
    "collapsed": false
   },
   "outputs": [],
   "source": [
    "num_features_outcomes = cdiff_data.merge(all_outcomes, on='hadm_id')"
   ]
  },
  {
   "cell_type": "code",
   "execution_count": null,
   "metadata": {
    "collapsed": true
   },
   "outputs": [],
   "source": [
    "num_features_outcomes.rename(columns = {'hospital_expire_flag':'expire', 'outcome':'cdiff'}, inplace = True)"
   ]
  },
  {
   "cell_type": "code",
   "execution_count": null,
   "metadata": {
    "collapsed": false
   },
   "outputs": [],
   "source": [
    "num_features_outcomes.head()"
   ]
  },
  {
   "cell_type": "code",
   "execution_count": null,
   "metadata": {
    "collapsed": false
   },
   "outputs": [],
   "source": [
    "g = sns.FacetGrid(admit_info_cdiff, row=\"flag\", col=\"hospital_expire_flag\", margin_titles=True, sharey=False)\n",
    "bins = np.linspace(0, 24, 12)\n",
    "g.map(plt.hist, \"admittimeonly\", bins=bins, lw=0) #"
   ]
  },
  {
   "cell_type": "markdown",
   "metadata": {},
   "source": [
    "# Create table of multiple stays, combine stays within 30 days"
   ]
  },
  {
   "cell_type": "code",
   "execution_count": null,
   "metadata": {
    "collapsed": true
   },
   "outputs": [],
   "source": []
  },
  {
   "cell_type": "code",
   "execution_count": null,
   "metadata": {
    "collapsed": true
   },
   "outputs": [],
   "source": [
    "admit_info = pd.read_sql_query('SELECT * FROM admit_info;', con)"
   ]
  },
  {
   "cell_type": "code",
   "execution_count": null,
   "metadata": {
    "collapsed": false
   },
   "outputs": [],
   "source": [
    "admit_info.head()"
   ]
  },
  {
   "cell_type": "code",
   "execution_count": null,
   "metadata": {
    "collapsed": true
   },
   "outputs": [],
   "source": [
    "info_subset = admit_info.loc[:, ['subject_id', 'hadm_id', 'admittime', 'dischtime', 'los_hospital', 'icd9_code', 'hospstay_seq']]\n",
    "multistays = info_subset[info_subset.hospstay_seq > 1]"
   ]
  },
  {
   "cell_type": "code",
   "execution_count": null,
   "metadata": {
    "collapsed": false
   },
   "outputs": [],
   "source": [
    "multistays.head()"
   ]
  },
  {
   "cell_type": "code",
   "execution_count": null,
   "metadata": {
    "collapsed": true
   },
   "outputs": [],
   "source": [
    "multistay_subids = set(multistays.subject_id)"
   ]
  },
  {
   "cell_type": "code",
   "execution_count": null,
   "metadata": {
    "collapsed": true
   },
   "outputs": [],
   "source": [
    "multistay_data.to_csv('/Users/nwespe/Desktop/multistay_combined_data.csv')"
   ]
  },
  {
   "cell_type": "code",
   "execution_count": null,
   "metadata": {
    "collapsed": false
   },
   "outputs": [],
   "source": [
    "outcomes.head()"
   ]
  },
  {
   "cell_type": "code",
   "execution_count": null,
   "metadata": {
    "collapsed": false
   },
   "outputs": [],
   "source": [
    "outcomes.remove.value_counts(), outcomes.flag.value_counts()"
   ]
  },
  {
   "cell_type": "code",
   "execution_count": null,
   "metadata": {
    "collapsed": false
   },
   "outputs": [],
   "source": [
    "multistay_data['outcome'].value_counts()"
   ]
  },
  {
   "cell_type": "code",
   "execution_count": null,
   "metadata": {
    "collapsed": false
   },
   "outputs": [],
   "source": [
    "culled_outcomes = outcomes[outcomes.remove == False]"
   ]
  },
  {
   "cell_type": "code",
   "execution_count": null,
   "metadata": {
    "collapsed": false
   },
   "outputs": [],
   "source": [
    "culled_outcomes.head()"
   ]
  },
  {
   "cell_type": "code",
   "execution_count": null,
   "metadata": {
    "collapsed": true
   },
   "outputs": [],
   "source": [
    "admit_info = pd.read_sql_query('SELECT * FROM admit_info;', con)\n",
    "non_cdiff_admits = admit_info[admit_info.icd9_code != '00845']  # only include this subset from outcomes list\n",
    "ids = list(non_cdiff_admits.hadm_id)\n",
    "noncdiff_admit_outcomes = merged_outcomes[merged_outcomes.hadm_id.isin(ids)]"
   ]
  },
  {
   "cell_type": "code",
   "execution_count": null,
   "metadata": {
    "collapsed": false
   },
   "outputs": [],
   "source": [
    "noncdiff_admit_outcomes.head()"
   ]
  },
  {
   "cell_type": "code",
   "execution_count": null,
   "metadata": {
    "collapsed": false
   },
   "outputs": [],
   "source": [
    "len(noncdiff_admit_outcomes), noncdiff_admit_outcomes.new_flag.value_counts()"
   ]
  },
  {
   "cell_type": "code",
   "execution_count": null,
   "metadata": {
    "collapsed": true
   },
   "outputs": [],
   "source": []
  },
  {
   "cell_type": "code",
   "execution_count": null,
   "metadata": {
    "collapsed": false
   },
   "outputs": [],
   "source": [
    "cdiff_admits.head()"
   ]
  },
  {
   "cell_type": "code",
   "execution_count": null,
   "metadata": {
    "collapsed": false
   },
   "outputs": [],
   "source": [
    "cdiff_admits.hospstay_seq.value_counts()"
   ]
  },
  {
   "cell_type": "code",
   "execution_count": null,
   "metadata": {
    "collapsed": true
   },
   "outputs": [],
   "source": [
    "non_cdiff_admits = admit_info[admit_info.icd9_code != '00845']"
   ]
  },
  {
   "cell_type": "code",
   "execution_count": null,
   "metadata": {
    "collapsed": false
   },
   "outputs": [],
   "source": [
    "non_cdiff_admits.hospstay_seq.value_counts()"
   ]
  },
  {
   "cell_type": "code",
   "execution_count": null,
   "metadata": {
    "collapsed": false
   },
   "outputs": [],
   "source": [
    "shape(cdiff_admits)"
   ]
  },
  {
   "cell_type": "code",
   "execution_count": null,
   "metadata": {
    "collapsed": false
   },
   "outputs": [],
   "source": [
    "cdiff_admits.hospital_expire_flag.value_counts()"
   ]
  },
  {
   "cell_type": "code",
   "execution_count": null,
   "metadata": {
    "collapsed": false
   },
   "outputs": [],
   "source": [
    "admit_info_subset = admit_info.loc[:, ['hadm_id', 'los_hospital']]\n",
    "all_info = num_features_outcomes.merge(admit_info_subset, on='hadm_id')"
   ]
  },
  {
   "cell_type": "code",
   "execution_count": null,
   "metadata": {
    "collapsed": false
   },
   "outputs": [],
   "source": [
    "all_info.head()"
   ]
  },
  {
   "cell_type": "code",
   "execution_count": null,
   "metadata": {
    "collapsed": false
   },
   "outputs": [],
   "source": [
    "all_info.expire[(all_info.cdiff == 1)].value_counts()"
   ]
  },
  {
   "cell_type": "code",
   "execution_count": null,
   "metadata": {
    "collapsed": false
   },
   "outputs": [],
   "source": [
    "all_info.expire[(all_info.cdiff == 0)].value_counts()"
   ]
  },
  {
   "cell_type": "code",
   "execution_count": null,
   "metadata": {
    "collapsed": true
   },
   "outputs": [],
   "source": [
    "all_surviving_pts = all_info[all_info.expire == 0]"
   ]
  },
  {
   "cell_type": "code",
   "execution_count": null,
   "metadata": {
    "collapsed": false
   },
   "outputs": [],
   "source": [
    "all_surviving_pts.head()"
   ]
  },
  {
   "cell_type": "code",
   "execution_count": null,
   "metadata": {
    "collapsed": false
   },
   "outputs": [],
   "source": [
    "g = sns.FacetGrid(all_surviving_pts, col='cdiff', margin_titles=True, sharey=False)\n",
    "bins = np.linspace(0, 100, 20)\n",
    "g.map(plt.hist, 'los_hospital', bins=bins) # , , lw=0"
   ]
  },
  {
   "cell_type": "code",
   "execution_count": null,
   "metadata": {
    "collapsed": false
   },
   "outputs": [],
   "source": [
    "all_surviving_pts.groupby(['cdiff'], axis=0)['los_hospital'].aggregate('mean')"
   ]
  },
  {
   "cell_type": "code",
   "execution_count": null,
   "metadata": {
    "collapsed": true
   },
   "outputs": [],
   "source": []
  },
  {
   "cell_type": "markdown",
   "metadata": {},
   "source": [
    "# Cells for getting AB prescription information"
   ]
  },
  {
   "cell_type": "code",
   "execution_count": null,
   "metadata": {
    "collapsed": true
   },
   "outputs": [],
   "source": [
    "sql_query = \"\"\"\n",
    "SELECT pr.*, ai.icd9_code\n",
    "FROM mimiciii.admit_info ai\n",
    "JOIN prescriptions pr ON ai.hadm_id = pr.hadm_id\n",
    "WHERE pr.drug ILIKE '%zolid%'\n",
    "AND pr.drug_type = 'MAIN';\n",
    "\"\"\"\n",
    "prescriptions = pd.read_sql_query(sql_query, con)"
   ]
  },
  {
   "cell_type": "code",
   "execution_count": null,
   "metadata": {
    "collapsed": false
   },
   "outputs": [],
   "source": [
    "prescriptions.head()"
   ]
  },
  {
   "cell_type": "code",
   "execution_count": null,
   "metadata": {
    "collapsed": false
   },
   "outputs": [],
   "source": [
    "unique(prescriptions.drug)"
   ]
  },
  {
   "cell_type": "code",
   "execution_count": null,
   "metadata": {
    "collapsed": false
   },
   "outputs": [],
   "source": [
    "all_infect_prescriptions.head()"
   ]
  },
  {
   "cell_type": "code",
   "execution_count": null,
   "metadata": {
    "collapsed": false
   },
   "outputs": [],
   "source": [
    "shape(all_infect_prescriptions)"
   ]
  },
  {
   "cell_type": "code",
   "execution_count": null,
   "metadata": {
    "collapsed": false
   },
   "outputs": [],
   "source": [
    "sql_query = \"\"\"\n",
    "SELECT pr.*, ia.*\n",
    "FROM mimiciii.infection_admits ia\n",
    "LEFT JOIN mimiciii.prescriptions pr ON ia.hadm_id = pr.hadm_id\n",
    "WHERE pr.drug_type = 'MAIN';\n",
    "\"\"\"\n",
    "infection_prescriptions = pd.read_sql_query(sql_query, con)"
   ]
  },
  {
   "cell_type": "markdown",
   "metadata": {},
   "source": [
    "# Cells to prepare dataset for running model"
   ]
  },
  {
   "cell_type": "code",
   "execution_count": 240,
   "metadata": {
    "collapsed": false
   },
   "outputs": [
    {
     "name": "stdout",
     "output_type": "stream",
     "text": [
      "postgresql://nwespe@localhost/mimic\n",
      "Retrieved data from SQL, have outcomes of length: 7331\n",
      "Flag value counts: False    6927\n",
      "True      404\n",
      "Name: flag, dtype: int64\n",
      "Removed expired, now have outcomes:5911\n",
      "Flag value counts: False    5598\n",
      "True      313\n",
      "Name: flag, dtype: int64\n",
      "Merged close hospital stays, now have outcomes: 5683\n",
      "Flag value counts: False    5376\n",
      "True      307\n",
      "Name: flag, dtype: int64\n",
      "Removed admits for cdiff, now have outcomes: 5565\n",
      "Flag value counts: False    5340\n",
      "True      225\n",
      "Name: flag, dtype: int64\n",
      "Combined features with outcomes, now have data of length: 5434\n",
      "Flag value counts: 0    5214\n",
      "1     220\n",
      "Name: outcome, dtype: int64\n",
      "Adjusted data values for age, admission time\n",
      "Flag value counts: 0    5214\n",
      "1     220\n",
      "Name: outcome, dtype: int64\n"
     ]
    }
   ],
   "source": [
    "all_features, cdiff_data, outcomes = get_sql_dataset.main()"
   ]
  },
  {
   "cell_type": "code",
   "execution_count": 8,
   "metadata": {
    "collapsed": true
   },
   "outputs": [],
   "source": [
    "bal_data = prepare_dataset.balance_dataset(cdiff_data, 'outcome')"
   ]
  },
  {
   "cell_type": "code",
   "execution_count": null,
   "metadata": {
    "collapsed": false
   },
   "outputs": [],
   "source": [
    "get_sql_dataset.plot_feature_counts(cdiff_data)"
   ]
  },
  {
   "cell_type": "code",
   "execution_count": null,
   "metadata": {
    "collapsed": false
   },
   "outputs": [],
   "source": [
    "get_sql_dataset.plot_feature_counts(bal_data)"
   ]
  },
  {
   "cell_type": "code",
   "execution_count": null,
   "metadata": {
    "collapsed": false,
    "scrolled": true
   },
   "outputs": [],
   "source": [
    "get_sql_dataset.plot_features(bal_data, save=True)"
   ]
  },
  {
   "cell_type": "code",
   "execution_count": null,
   "metadata": {
    "collapsed": false
   },
   "outputs": [],
   "source": [
    "get_sql_dataset.plot_correlations(cdiff_data)"
   ]
  },
  {
   "cell_type": "markdown",
   "metadata": {},
   "source": [
    "# Cells for running a model and evaluating it"
   ]
  },
  {
   "cell_type": "code",
   "execution_count": 54,
   "metadata": {
    "collapsed": false
   },
   "outputs": [],
   "source": [
    "from application import run_model"
   ]
  },
  {
   "cell_type": "code",
   "execution_count": 242,
   "metadata": {
    "collapsed": false
   },
   "outputs": [
    {
     "name": "stdout",
     "output_type": "stream",
     "text": [
      "Selected features and dropped low-feature rows, now have dataset of length: 5424\n",
      "Flag value counts: 0    5204\n",
      "1     220\n",
      "Name: outcome, dtype: int64\n"
     ]
    }
   ],
   "source": [
    "x_train, y_train, x_test, y_test = prepare_dataset.main(cdiff_data, add_ab=False)"
   ]
  },
  {
   "cell_type": "code",
   "execution_count": 243,
   "metadata": {
    "collapsed": false
   },
   "outputs": [
    {
     "data": {
      "text/plain": [
       "(352, 44)"
      ]
     },
     "execution_count": 243,
     "metadata": {},
     "output_type": "execute_result"
    }
   ],
   "source": [
    "shape(x_train)"
   ]
  },
  {
   "cell_type": "code",
   "execution_count": 244,
   "metadata": {
    "collapsed": false
   },
   "outputs": [
    {
     "data": {
      "text/html": [
       "<div>\n",
       "<style>\n",
       "    .dataframe thead tr:only-child th {\n",
       "        text-align: right;\n",
       "    }\n",
       "\n",
       "    .dataframe thead th {\n",
       "        text-align: left;\n",
       "    }\n",
       "\n",
       "    .dataframe tbody tr th {\n",
       "        vertical-align: top;\n",
       "    }\n",
       "</style>\n",
       "<table border=\"1\" class=\"dataframe\">\n",
       "  <thead>\n",
       "    <tr style=\"text-align: right;\">\n",
       "      <th></th>\n",
       "      <th>aniongap</th>\n",
       "      <th>albumin</th>\n",
       "      <th>bands</th>\n",
       "      <th>bicarbonate</th>\n",
       "      <th>bilirubin</th>\n",
       "      <th>creatinine</th>\n",
       "      <th>chloride</th>\n",
       "      <th>glucose</th>\n",
       "      <th>hematocrit</th>\n",
       "      <th>hemoglobin</th>\n",
       "      <th>...</th>\n",
       "      <th>tempc_min</th>\n",
       "      <th>tempc_max</th>\n",
       "      <th>tempc_mean</th>\n",
       "      <th>spo2_min</th>\n",
       "      <th>spo2_max</th>\n",
       "      <th>spo2_mean</th>\n",
       "      <th>weight</th>\n",
       "      <th>height</th>\n",
       "      <th>bmi</th>\n",
       "      <th>age</th>\n",
       "    </tr>\n",
       "  </thead>\n",
       "  <tbody>\n",
       "    <tr>\n",
       "      <th>0</th>\n",
       "      <td>-0.240033</td>\n",
       "      <td>-1.197083</td>\n",
       "      <td>1.140093</td>\n",
       "      <td>-0.282794</td>\n",
       "      <td>-0.127692</td>\n",
       "      <td>-0.546985</td>\n",
       "      <td>-0.583878</td>\n",
       "      <td>0.038204</td>\n",
       "      <td>0.244362</td>\n",
       "      <td>0.739393</td>\n",
       "      <td>...</td>\n",
       "      <td>0.722888</td>\n",
       "      <td>0.718566</td>\n",
       "      <td>0.721095</td>\n",
       "      <td>-0.352874</td>\n",
       "      <td>-0.352874</td>\n",
       "      <td>-0.352874</td>\n",
       "      <td>1.511679</td>\n",
       "      <td>0.607158</td>\n",
       "      <td>1.467988</td>\n",
       "      <td>-1.961749</td>\n",
       "    </tr>\n",
       "    <tr>\n",
       "      <th>1</th>\n",
       "      <td>-0.974742</td>\n",
       "      <td>-1.385228</td>\n",
       "      <td>1.688442</td>\n",
       "      <td>1.173053</td>\n",
       "      <td>-0.083465</td>\n",
       "      <td>-0.720756</td>\n",
       "      <td>0.005864</td>\n",
       "      <td>-0.723511</td>\n",
       "      <td>-1.299251</td>\n",
       "      <td>-1.399782</td>\n",
       "      <td>...</td>\n",
       "      <td>0.019452</td>\n",
       "      <td>0.015579</td>\n",
       "      <td>0.017524</td>\n",
       "      <td>0.228233</td>\n",
       "      <td>0.228233</td>\n",
       "      <td>0.228233</td>\n",
       "      <td>-0.602336</td>\n",
       "      <td>-0.597076</td>\n",
       "      <td>-0.780479</td>\n",
       "      <td>-0.087746</td>\n",
       "    </tr>\n",
       "    <tr>\n",
       "      <th>2</th>\n",
       "      <td>5.882547</td>\n",
       "      <td>0.007438</td>\n",
       "      <td>1.050544</td>\n",
       "      <td>-2.830526</td>\n",
       "      <td>-0.348826</td>\n",
       "      <td>0.379796</td>\n",
       "      <td>-2.647973</td>\n",
       "      <td>13.998354</td>\n",
       "      <td>-0.001959</td>\n",
       "      <td>-0.544112</td>\n",
       "      <td>...</td>\n",
       "      <td>-0.730882</td>\n",
       "      <td>-0.734277</td>\n",
       "      <td>-0.732955</td>\n",
       "      <td>0.518787</td>\n",
       "      <td>0.518787</td>\n",
       "      <td>0.518787</td>\n",
       "      <td>0.404338</td>\n",
       "      <td>-1.904149</td>\n",
       "      <td>1.697116</td>\n",
       "      <td>-1.131745</td>\n",
       "    </tr>\n",
       "    <tr>\n",
       "      <th>3</th>\n",
       "      <td>-0.974742</td>\n",
       "      <td>-0.862978</td>\n",
       "      <td>-0.311229</td>\n",
       "      <td>1.355033</td>\n",
       "      <td>-0.393053</td>\n",
       "      <td>-0.373214</td>\n",
       "      <td>-0.289007</td>\n",
       "      <td>-0.737360</td>\n",
       "      <td>-0.609552</td>\n",
       "      <td>-0.924410</td>\n",
       "      <td>...</td>\n",
       "      <td>0.300826</td>\n",
       "      <td>0.296774</td>\n",
       "      <td>0.298952</td>\n",
       "      <td>0.373510</td>\n",
       "      <td>0.373510</td>\n",
       "      <td>0.373510</td>\n",
       "      <td>-0.011754</td>\n",
       "      <td>0.050444</td>\n",
       "      <td>-0.622549</td>\n",
       "      <td>-0.056524</td>\n",
       "    </tr>\n",
       "    <tr>\n",
       "      <th>4</th>\n",
       "      <td>0.004870</td>\n",
       "      <td>-2.255645</td>\n",
       "      <td>2.505740</td>\n",
       "      <td>-0.828737</td>\n",
       "      <td>-0.216145</td>\n",
       "      <td>0.148101</td>\n",
       "      <td>0.743041</td>\n",
       "      <td>0.232095</td>\n",
       "      <td>-0.182595</td>\n",
       "      <td>-0.258889</td>\n",
       "      <td>...</td>\n",
       "      <td>0.394617</td>\n",
       "      <td>0.390504</td>\n",
       "      <td>0.392761</td>\n",
       "      <td>0.518787</td>\n",
       "      <td>0.518787</td>\n",
       "      <td>0.518787</td>\n",
       "      <td>1.598924</td>\n",
       "      <td>0.150556</td>\n",
       "      <td>1.880405</td>\n",
       "      <td>-1.676028</td>\n",
       "    </tr>\n",
       "  </tbody>\n",
       "</table>\n",
       "<p>5 rows × 44 columns</p>\n",
       "</div>"
      ],
      "text/plain": [
       "   aniongap   albumin     bands  bicarbonate  bilirubin  creatinine  chloride  \\\n",
       "0 -0.240033 -1.197083  1.140093    -0.282794  -0.127692   -0.546985 -0.583878   \n",
       "1 -0.974742 -1.385228  1.688442     1.173053  -0.083465   -0.720756  0.005864   \n",
       "2  5.882547  0.007438  1.050544    -2.830526  -0.348826    0.379796 -2.647973   \n",
       "3 -0.974742 -0.862978 -0.311229     1.355033  -0.393053   -0.373214 -0.289007   \n",
       "4  0.004870 -2.255645  2.505740    -0.828737  -0.216145    0.148101  0.743041   \n",
       "\n",
       "     glucose  hematocrit  hemoglobin    ...     tempc_min  tempc_max  \\\n",
       "0   0.038204    0.244362    0.739393    ...      0.722888   0.718566   \n",
       "1  -0.723511   -1.299251   -1.399782    ...      0.019452   0.015579   \n",
       "2  13.998354   -0.001959   -0.544112    ...     -0.730882  -0.734277   \n",
       "3  -0.737360   -0.609552   -0.924410    ...      0.300826   0.296774   \n",
       "4   0.232095   -0.182595   -0.258889    ...      0.394617   0.390504   \n",
       "\n",
       "   tempc_mean  spo2_min  spo2_max  spo2_mean    weight    height       bmi  \\\n",
       "0    0.721095 -0.352874 -0.352874  -0.352874  1.511679  0.607158  1.467988   \n",
       "1    0.017524  0.228233  0.228233   0.228233 -0.602336 -0.597076 -0.780479   \n",
       "2   -0.732955  0.518787  0.518787   0.518787  0.404338 -1.904149  1.697116   \n",
       "3    0.298952  0.373510  0.373510   0.373510 -0.011754  0.050444 -0.622549   \n",
       "4    0.392761  0.518787  0.518787   0.518787  1.598924  0.150556  1.880405   \n",
       "\n",
       "        age  \n",
       "0 -1.961749  \n",
       "1 -0.087746  \n",
       "2 -1.131745  \n",
       "3 -0.056524  \n",
       "4 -1.676028  \n",
       "\n",
       "[5 rows x 44 columns]"
      ]
     },
     "execution_count": 244,
     "metadata": {},
     "output_type": "execute_result"
    }
   ],
   "source": [
    "x_test.head()"
   ]
  },
  {
   "cell_type": "code",
   "execution_count": 245,
   "metadata": {
    "collapsed": false
   },
   "outputs": [],
   "source": [
    "x_test.to_csv('/Users/nwespe/Desktop/mostnum_features_x_test.csv')"
   ]
  },
  {
   "cell_type": "code",
   "execution_count": 246,
   "metadata": {
    "collapsed": false
   },
   "outputs": [],
   "source": [
    "curr_model = run_model.fit_model(x_train, y_train, model='logistic', save=False)"
   ]
  },
  {
   "cell_type": "code",
   "execution_count": 247,
   "metadata": {
    "collapsed": false
   },
   "outputs": [
    {
     "name": "stdout",
     "output_type": "stream",
     "text": [
      "Cross validation metrics\n",
      "CV Scores: [ 0.66666667  0.62360956  0.57735027  0.64549722  0.62360956  0.70710678\n",
      "  0.72760688  0.64168895  0.59408853  0.61834694]\n",
      "CV Mean: 0.642557136155\n",
      "CV Standard deviation: 0.0446050201425\n",
      "Accuracy: 0.585227272727\n",
      "Classification report: \n",
      "             precision    recall  f1-score   support\n",
      "\n",
      "          0       0.59      0.55      0.57       176\n",
      "          1       0.58      0.62      0.60       176\n",
      "\n",
      "avg / total       0.59      0.59      0.58       352\n",
      "\n",
      "Confusion matrix results\n",
      "False positives: 80\n",
      "False negatives: 66\n"
     ]
    }
   ],
   "source": [
    "run_model.evaluate_model(x_train, y_train, curr_model)"
   ]
  },
  {
   "cell_type": "code",
   "execution_count": 248,
   "metadata": {
    "collapsed": false
   },
   "outputs": [
    {
     "name": "stdout",
     "output_type": "stream",
     "text": [
      "Cross validation metrics\n",
      "CV Scores: [ 0.83666003  0.70710678  0.63245553  0.63245553  0.79056942  0.8660254\n",
      "  0.61237244  0.61237244  0.61237244  0.79056942]\n",
      "CV Mean: 0.709295941274\n",
      "CV Standard deviation: 0.0969498204829\n",
      "Accuracy: 0.488636363636\n",
      "Classification report: \n",
      "             precision    recall  f1-score   support\n",
      "\n",
      "          0       0.49      0.48      0.48        44\n",
      "          1       0.49      0.50      0.49        44\n",
      "\n",
      "avg / total       0.49      0.49      0.49        88\n",
      "\n",
      "Confusion matrix results\n",
      "False positives: 23\n",
      "False negatives: 22\n"
     ]
    }
   ],
   "source": [
    "run_model.evaluate_model(x_test, y_test, curr_model)"
   ]
  },
  {
   "cell_type": "code",
   "execution_count": 250,
   "metadata": {
    "collapsed": true
   },
   "outputs": [],
   "source": [
    "prefix='mostnum'"
   ]
  },
  {
   "cell_type": "code",
   "execution_count": 251,
   "metadata": {
    "collapsed": false
   },
   "outputs": [
    {
     "data": {
      "image/png": "[encoded data removed]",
      "text/plain": [
       "<matplotlib.figure.Figure at 0x11b03a750>"
      ]
     },
     "metadata": {},
     "output_type": "display_data"
    }
   ],
   "source": [
    "run_model.plot_learning_curve(curr_model, x_train, y_train, save=True, prefix=prefix)"
   ]
  },
  {
   "cell_type": "code",
   "execution_count": 257,
   "metadata": {
    "collapsed": false
   },
   "outputs": [
    {
     "data": {
      "image/png": "[encoded data removed]",
      "text/plain": [
       "<matplotlib.figure.Figure at 0x11b4feb10>"
      ]
     },
     "metadata": {},
     "output_type": "display_data"
    }
   ],
   "source": [
    "run_model.plot_probas(curr_model, x_test, y_test, save=False, prefix=prefix)"
   ]
  },
  {
   "cell_type": "code",
   "execution_count": 253,
   "metadata": {
    "collapsed": false
   },
   "outputs": [
    {
     "data": {
      "image/png": "[encoded data removed]",
      "text/plain": [
       "<matplotlib.figure.Figure at 0x119c95ed0>"
      ]
     },
     "metadata": {},
     "output_type": "display_data"
    }
   ],
   "source": [
    "run_model.plot_roc_curve(curr_model, x_train, y_train, save=True, prefix=prefix)"
   ]
  },
  {
   "cell_type": "code",
   "execution_count": 233,
   "metadata": {
    "collapsed": false
   },
   "outputs": [
    {
     "name": "stdout",
     "output_type": "stream",
     "text": [
      "Optimal number of features : 4\n"
     ]
    },
    {
     "data": {
      "image/png": "[encoded data removed]",
      "text/plain": [
       "<matplotlib.figure.Figure at 0x120d13410>"
      ]
     },
     "metadata": {},
     "output_type": "display_data"
    }
   ],
   "source": [
    "selector = run_model.recursive_feature(x_train, y_train)"
   ]
  },
  {
   "cell_type": "code",
   "execution_count": 234,
   "metadata": {
    "collapsed": false
   },
   "outputs": [
    {
     "data": {
      "text/plain": [
       "array([14, 13,  2, 17, 11, 10,  9, 15, 18, 16, 20, 19,  3,  4,  6,  5,  7,\n",
       "       12,  8,  1,  1,  1,  1])"
      ]
     },
     "execution_count": 234,
     "metadata": {},
     "output_type": "execute_result"
    }
   ],
   "source": [
    "selector.ranking_"
   ]
  },
  {
   "cell_type": "code",
   "execution_count": 235,
   "metadata": {
    "collapsed": false
   },
   "outputs": [
    {
     "data": {
      "text/plain": [
       "['Moderate', 'None', 'Treatment', 'Unknown']"
      ]
     },
     "execution_count": 235,
     "metadata": {},
     "output_type": "execute_result"
    }
   ],
   "source": [
    "ones = [i for i, v in enumerate(selector.ranking_) if v == 1]\n",
    "[list(x_train.columns)[i] for i in ones]"
   ]
  },
  {
   "cell_type": "code",
   "execution_count": 236,
   "metadata": {
    "collapsed": false
   },
   "outputs": [
    {
     "data": {
      "text/plain": [
       "['bilirubin',\n",
       " 'meanbp_mean',\n",
       " 'weight',\n",
       " 'Moderate',\n",
       " 'None',\n",
       " 'Treatment',\n",
       " 'Unknown']"
      ]
     },
     "execution_count": 236,
     "metadata": {},
     "output_type": "execute_result"
    }
   ],
   "source": [
    "onetofour = [i for i, v in enumerate(selector.ranking_) if v < 5]\n",
    "[list(x_train.columns)[i] for i in onetofour]"
   ]
  },
  {
   "cell_type": "markdown",
   "metadata": {},
   "source": [
    "# Cells for feature importance and selection"
   ]
  },
  {
   "cell_type": "code",
   "execution_count": 254,
   "metadata": {
    "collapsed": false
   },
   "outputs": [],
   "source": [
    "coefs = np.around(curr_model.coef_, 3)\n",
    "coefs.reshape(-1)\n",
    "std = x_train.std(axis=0)\n",
    "std_coef_series = pd.Series(np.reshape(np.array(std)*coefs, -1), index=std.index)"
   ]
  },
  {
   "cell_type": "code",
   "execution_count": 255,
   "metadata": {
    "collapsed": false
   },
   "outputs": [],
   "source": [
    "feature_importance_df = pd.DataFrame(data=[std, std_coef_series])\n",
    "model_feature_importance = feature_importance_df.loc[1].sort_values()"
   ]
  },
  {
   "cell_type": "code",
   "execution_count": 256,
   "metadata": {
    "collapsed": false
   },
   "outputs": [
    {
     "data": {
      "text/plain": [
       "hemoglobin       -0.832183\n",
       "diasbp_min       -0.719022\n",
       "meanbp_max       -0.605861\n",
       "chloride         -0.444632\n",
       "weight           -0.429611\n",
       "resprate_min     -0.421599\n",
       "sysbp_min        -0.301428\n",
       "bicarbonate      -0.283403\n",
       "bilirubin        -0.260370\n",
       "tempc_min        -0.244347\n",
       "pt               -0.211300\n",
       "albumin          -0.119169\n",
       "meanbp_mean      -0.115164\n",
       "aniongap         -0.104148\n",
       "resprate_mean    -0.097138\n",
       "bands            -0.068097\n",
       "glucose          -0.046065\n",
       "spo2_max         -0.029041\n",
       "spo2_mean        -0.029041\n",
       "spo2_min         -0.029041\n",
       "ptt              -0.024034\n",
       "sysbp_mean       -0.013019\n",
       "creatinine       -0.012017\n",
       "potassium         0.006009\n",
       "heartrate_mean    0.008011\n",
       "heartrate_max     0.008011\n",
       "heartrate_min     0.008011\n",
       "diasbp_mean       0.025036\n",
       "lactate           0.027038\n",
       "tempc_mean        0.027038\n",
       "platelet          0.073104\n",
       "age               0.075107\n",
       "sodium            0.108154\n",
       "bmi               0.114162\n",
       "wbc               0.175249\n",
       "height            0.193275\n",
       "inr               0.216307\n",
       "resprate_max      0.228325\n",
       "bun               0.236336\n",
       "sysbp_max         0.275391\n",
       "tempc_max         0.297423\n",
       "meanbp_min        0.373531\n",
       "hematocrit        0.555790\n",
       "diasbp_max        0.762083\n",
       "Name: 1, dtype: float64"
      ]
     },
     "execution_count": 256,
     "metadata": {},
     "output_type": "execute_result"
    }
   ],
   "source": [
    "model_feature_importance"
   ]
  },
  {
   "cell_type": "code",
   "execution_count": 49,
   "metadata": {
    "collapsed": false
   },
   "outputs": [],
   "source": [
    "model_feature_importance.to_csv('/Users/nwespe/Desktop/all_feature_scaled_survived_cdiff_feature_importance.csv')"
   ]
  },
  {
   "cell_type": "code",
   "execution_count": 176,
   "metadata": {
    "collapsed": false
   },
   "outputs": [
    {
     "name": "stdout",
     "output_type": "stream",
     "text": [
      "Top feature correlations with outcome: \n",
      "outcome     1.000000\n",
      "bun         0.055022\n",
      "aniongap    0.038807\n",
      "Name: outcome, dtype: float64\n",
      "albumin       -0.050216\n",
      "meanbp_mean   -0.050925\n",
      "meanbp_min    -0.052021\n",
      "Name: outcome, dtype: float64\n",
      "<a list of 0 Text xticklabel objects>\n"
     ]
    },
    {
     "data": {
      "text/plain": [
       "<matplotlib.figure.Figure at 0x119e60d50>"
      ]
     },
     "metadata": {},
     "output_type": "display_data"
    },
    {
     "data": {
      "image/png": "[encoded data removed]",
      "text/plain": [
       "<matplotlib.figure.Figure at 0x119e83650>"
      ]
     },
     "metadata": {},
     "output_type": "display_data"
    },
    {
     "data": {
      "text/plain": [
       "<matplotlib.figure.Figure at 0x119d6ec10>"
      ]
     },
     "metadata": {},
     "output_type": "display_data"
    }
   ],
   "source": [
    "get_sql_dataset.plot_correlations(cdiff_data)"
   ]
  },
  {
   "cell_type": "code",
   "execution_count": null,
   "metadata": {
    "collapsed": false
   },
   "outputs": [],
   "source": [
    "y_test.iloc[661]"
   ]
  },
  {
   "cell_type": "code",
   "execution_count": null,
   "metadata": {
    "collapsed": true
   },
   "outputs": [],
   "source": [
    "X_df = pd.DataFrame(X, columns=test_df.columns)\n",
    "profile = X_df.sample(n=1)"
   ]
  },
  {
   "cell_type": "code",
   "execution_count": null,
   "metadata": {
    "collapsed": false
   },
   "outputs": [],
   "source": [
    "profile = np.around(profile, decimals=1)"
   ]
  },
  {
   "cell_type": "code",
   "execution_count": null,
   "metadata": {
    "collapsed": false
   },
   "outputs": [],
   "source": [
    "profile.transpose()"
   ]
  },
  {
   "cell_type": "code",
   "execution_count": null,
   "metadata": {
    "collapsed": false
   },
   "outputs": [],
   "source": [
    "test_df.head()"
   ]
  },
  {
   "cell_type": "code",
   "execution_count": null,
   "metadata": {
    "collapsed": false
   },
   "outputs": [],
   "source": [
    "#result = run_model.eval_risk()"
   ]
  },
  {
   "cell_type": "code",
   "execution_count": null,
   "metadata": {
    "collapsed": true
   },
   "outputs": [],
   "source": []
  },
  {
   "cell_type": "code",
   "execution_count": null,
   "metadata": {
    "collapsed": false
   },
   "outputs": [],
   "source": [
    "check_data = X_df.iloc[:20]\n",
    "check_outcomes = y_train.iloc[:20]\n",
    "predictions = log_reg.predict(check_data)\n",
    "#check_data_prepared = num_pipeline.transform(check_data)\n",
    "print \"Predictions:\" + str(predictions)"
   ]
  },
  {
   "cell_type": "code",
   "execution_count": null,
   "metadata": {
    "collapsed": false
   },
   "outputs": [],
   "source": [
    "print log_reg.coef_"
   ]
  },
  {
   "cell_type": "code",
   "execution_count": null,
   "metadata": {
    "collapsed": true
   },
   "outputs": [],
   "source": [
    "log_mse = mean_squared_error(check_outcomes, predictions)\n",
    "log_rmse = np.sqrt(log_mse)"
   ]
  },
  {
   "cell_type": "code",
   "execution_count": null,
   "metadata": {
    "collapsed": false
   },
   "outputs": [],
   "source": [
    "log_rmse"
   ]
  },
  {
   "cell_type": "code",
   "execution_count": null,
   "metadata": {
    "collapsed": false,
    "scrolled": true
   },
   "outputs": [],
   "source": [
    "check_outcomes.values"
   ]
  },
  {
   "cell_type": "code",
   "execution_count": null,
   "metadata": {
    "collapsed": true
   },
   "outputs": [],
   "source": [
    "from sklearn.tree import DecisionTreeRegressor"
   ]
  },
  {
   "cell_type": "code",
   "execution_count": null,
   "metadata": {
    "collapsed": false
   },
   "outputs": [],
   "source": [
    "tree_reg = DecisionTreeRegressor()\n",
    "tree_reg.fit(X_df, y_train)"
   ]
  },
  {
   "cell_type": "code",
   "execution_count": null,
   "metadata": {
    "collapsed": false
   },
   "outputs": [],
   "source": [
    "check_data = X_df.iloc[:20]\n",
    "check_outcomes = y_train.iloc[:20]\n",
    "predictions = tree_reg.predict(check_data)\n",
    "#check_data_prepared = num_pipeline.transform(check_data)\n",
    "print \"Predictions:\" + str(predictions)"
   ]
  },
  {
   "cell_type": "code",
   "execution_count": null,
   "metadata": {
    "collapsed": false
   },
   "outputs": [],
   "source": [
    "tree_mse = mean_squared_error(check_outcomes, predictions)\n",
    "tree_rmse = np.sqrt(tree_mse)\n",
    "tree_rmse"
   ]
  },
  {
   "cell_type": "code",
   "execution_count": null,
   "metadata": {
    "collapsed": true
   },
   "outputs": [],
   "source": [
    "from sklearn.model_selection import cross_val_score"
   ]
  },
  {
   "cell_type": "code",
   "execution_count": null,
   "metadata": {
    "collapsed": false
   },
   "outputs": [],
   "source": [
    "scores = cross_val_score(tree_reg, X_df, y_train, scoring='neg_mean_squared_error', cv=10)"
   ]
  },
  {
   "cell_type": "code",
   "execution_count": null,
   "metadata": {
    "collapsed": true
   },
   "outputs": [],
   "source": [
    "tree_rmse_scores = np.sqrt(-scores)"
   ]
  },
  {
   "cell_type": "code",
   "execution_count": null,
   "metadata": {
    "collapsed": true
   },
   "outputs": [],
   "source": [
    "def display_scores(scores):\n",
    "    print 'Scores:' + str(scores)\n",
    "    print 'Mean:' + str(scores.mean())\n",
    "    print 'Standard deviation:' + str(scores.std())"
   ]
  },
  {
   "cell_type": "code",
   "execution_count": null,
   "metadata": {
    "collapsed": false
   },
   "outputs": [],
   "source": [
    "display_scores(tree_rmse_scores)"
   ]
  },
  {
   "cell_type": "code",
   "execution_count": null,
   "metadata": {
    "collapsed": true
   },
   "outputs": [],
   "source": [
    "scores = cross_val_score(log_reg, X_df, y_train, scoring='neg_mean_squared_error', cv=10)\n",
    "log_rmse_scores = np.sqrt(-scores)"
   ]
  },
  {
   "cell_type": "code",
   "execution_count": null,
   "metadata": {
    "collapsed": false
   },
   "outputs": [],
   "source": [
    "display_scores(log_rmse_scores)"
   ]
  },
  {
   "cell_type": "code",
   "execution_count": null,
   "metadata": {
    "collapsed": false
   },
   "outputs": [],
   "source": [
    "missing_mask = np.ma.getmaskarray(np.ma.masked_invalid(x_train))\n",
    "knn_mse = ((X_filled_knn[missing_mask] - np.array(X_df)[missing_mask]) ** 2).mean()\n",
    "print(\"knnImpute MSE: %f\" % knn_mse)"
   ]
  },
  {
   "cell_type": "code",
   "execution_count": null,
   "metadata": {
    "collapsed": false
   },
   "outputs": [],
   "source": []
  },
  {
   "cell_type": "code",
   "execution_count": null,
   "metadata": {
    "collapsed": false
   },
   "outputs": [],
   "source": [
    "sql_query = \"\"\"\n",
    "SELECT c.*\n",
    "FROM chartevents c\n",
    "WHERE c.hadm_id = 170249\n",
    "AND c.itemid IN (226512, 226531);  \n",
    "\"\"\"\n",
    "see_items = pd.read_sql_query(sql_query, con)\n",
    "see_items \n",
    "#LIKE '%icarb%'"
   ]
  },
  {
   "cell_type": "code",
   "execution_count": null,
   "metadata": {
    "collapsed": false
   },
   "outputs": [],
   "source": [
    "sql_query = \"\"\"\n",
    "SELECT dl.itemid, dl.label, dl.fluid, dl.category\n",
    "FROM d_labitems dl\n",
    "WHERE dl.itemid IN (50803, 50804, 50882);  \n",
    "\"\"\"\n",
    "see_items = pd.read_sql_query(sql_query,con)\n",
    "see_items "
   ]
  },
  {
   "cell_type": "code",
   "execution_count": null,
   "metadata": {
    "collapsed": false
   },
   "outputs": [],
   "source": [
    "sql_query = \"\"\"\n",
    "SELECT pr.drug, pr.drug_type, pr.drug_name_poe, pr.drug_name_generic\n",
    "FROM prescriptions pr\n",
    "WHERE pr.drug LIKE '%cin';\n",
    "\"\"\"\n",
    "see_drugs = pd.read_sql_query(sql_query,con)\n",
    "unique(see_drugs.drug)"
   ]
  },
  {
   "cell_type": "code",
   "execution_count": null,
   "metadata": {
    "collapsed": false
   },
   "outputs": [],
   "source": [
    "sql_query = \"\"\"\n",
    "SELECT * FROM diagnoses_icd;\n",
    "\"\"\"\n",
    "diagnoses = pd.read_sql_query(sql_query,con)\n",
    "\n",
    "# need to get set of subject_id's associated with one or more icd codes whose \n",
    "# first 3 digits are lower than 140\n",
    "# first remove rows with codes starting with V or E\n",
    "\n",
    "diagnoses['icd9_letter'] = diagnoses.icd9_code.str[0]\n",
    "diagnoses = diagnoses[(diagnoses.icd9_letter != 'E') & (diagnoses.icd9_letter != 'V')]\n",
    "diagnoses['icd9_3digit'] = diagnoses.icd9_code.str[:3]\n",
    "diagnoses.icd9_3digit = pd.to_numeric(diagnoses.icd9_3digit)\n",
    "diagnoses.head()"
   ]
  },
  {
   "cell_type": "code",
   "execution_count": null,
   "metadata": {
    "collapsed": false
   },
   "outputs": [],
   "source": [
    "sql_query = \"\"\"\n",
    "CREATE VIEW infection_admissions AS \n",
    "SELECT * FROM admissions\n",
    "WHERE hadm_id IN %s;\"\"\"\n",
    "hadm_ids = tuple(infected_admits)\n",
    "\n",
    "cur.execute(sql_query, (hadm_ids,))"
   ]
  },
  {
   "cell_type": "code",
   "execution_count": null,
   "metadata": {
    "collapsed": false
   },
   "outputs": [],
   "source": [
    "infection_admissions = pd.read_sql_query('SELECT * FROM infection_admissions',con)\n",
    "infection_admissions.head()"
   ]
  },
  {
   "cell_type": "code",
   "execution_count": null,
   "metadata": {
    "collapsed": false
   },
   "outputs": [],
   "source": [
    "print infection_admissions.hospital_expire_flag.value_counts()\n",
    "print infection_admissions.admission_location.value_counts()"
   ]
  },
  {
   "cell_type": "code",
   "execution_count": null,
   "metadata": {
    "collapsed": false
   },
   "outputs": [],
   "source": [
    "subset['chartlag'] = (subset.charttime - subset.admittime) / np.timedelta64(1, 'h')"
   ]
  },
  {
   "cell_type": "code",
   "execution_count": null,
   "metadata": {
    "collapsed": false
   },
   "outputs": [],
   "source": [
    "early_charts = subset[subset.chartlag < 3]\n",
    "early_charts.head()"
   ]
  },
  {
   "cell_type": "code",
   "execution_count": null,
   "metadata": {
    "collapsed": true
   },
   "outputs": [],
   "source": [
    "sql_query = \"\"\"\n",
    "SELECT ia.hadm_id, ia.subject_id, ia.admittime, pr.icustay_id, pr.startdate, \n",
    "ia.hospital_expire_flag, pr.drug\n",
    "FROM infection_admissions ia\n",
    "LEFT JOIN prescriptions pr ON ia.hadm_id = pr.hadm_id\n",
    "WHERE pr.drug_type = 'MAIN';\"\"\"\n",
    "\n",
    "prescriptions = pd.read_sql_query(sql_query, con)"
   ]
  },
  {
   "cell_type": "code",
   "execution_count": null,
   "metadata": {
    "collapsed": true
   },
   "outputs": [],
   "source": [
    "patients['age_at_death'] = (patients.dod - patients.dob)/np.timedelta64(1, 'Y')"
   ]
  },
  {
   "cell_type": "code",
   "execution_count": null,
   "metadata": {
    "collapsed": false
   },
   "outputs": [],
   "source": [
    "age_bins = [-300, 0, 18, 40, 50, 60 ,70, 80, 90, 100]\n",
    "age_labels = ['exclude', 'youth', '18-39', '40-49', '50-59', '60-69', '70-79', '80-89', '>89']\n",
    "age_categories = pd.cut(patients['age_at_death'], age_bins, labels=age_labels)\n",
    "patients['age_category'] = pd.cut(patients['age_at_death'], age_bins, labels=age_labels)"
   ]
  },
  {
   "cell_type": "code",
   "execution_count": null,
   "metadata": {
    "collapsed": false
   },
   "outputs": [],
   "source": [
    "outcome = 'hospital_expire_flag'\n",
    "feature = 'age_category'\n",
    "db = infect_pts\n",
    "\n",
    "g = sns.countplot(x=outcome, hue=feature, data=db)\n",
    "plt.legend(loc='center left', bbox_to_anchor=(1, 0.5))\n",
    "plt.title('Patient outcomes and age at death')\n",
    "#plt.savefig('/Users/nwespe/Desktop/pt_expire_ethnicity.png', bbox_inches='tight')"
   ]
  }
 ],
 "metadata": {
  "anaconda-cloud": {},
  "kernelspec": {
   "display_name": "Python [conda env:my_insight_env]",
   "language": "python",
   "name": "conda-env-my_insight_env-py"
  },
  "language_info": {
   "codemirror_mode": {
    "name": "ipython",
    "version": 2
   },
   "file_extension": ".py",
   "mimetype": "text/x-python",
   "name": "python",
   "nbconvert_exporter": "python",
   "pygments_lexer": "ipython2",
   "version": "2.7.13"
  }
 },
 "nbformat": 4,
 "nbformat_minor": 1
}
