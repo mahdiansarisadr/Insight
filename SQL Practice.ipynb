{
 "cells": [
  {
   "cell_type": "markdown",
   "metadata": {},
   "source": [
    "This notebook uses ipython-sql (pip install ipython-sql) to type SQL queries directly. Use %sql before a single-line query and %%sql before a multi-line query."
   ]
  },
  {
   "cell_type": "code",
   "execution_count": 1,
   "metadata": {
    "collapsed": true
   },
   "outputs": [],
   "source": [
    "%load_ext sql"
   ]
  },
  {
   "cell_type": "code",
   "execution_count": 16,
   "metadata": {
    "collapsed": false
   },
   "outputs": [
    {
     "data": {
      "text/plain": [
       "u'Connected: nwespe@birth_db'"
      ]
     },
     "execution_count": 16,
     "metadata": {},
     "output_type": "execute_result"
    }
   ],
   "source": [
    "%sql postgresql://nwespe@localhost/birth_db"
   ]
  },
  {
   "cell_type": "code",
   "execution_count": 18,
   "metadata": {
    "collapsed": false
   },
   "outputs": [
    {
     "name": "stdout",
     "output_type": "stream",
     "text": [
      "Done.\n"
     ]
    },
    {
     "data": {
      "text/plain": [
       "[]"
      ]
     },
     "execution_count": 18,
     "metadata": {},
     "output_type": "execute_result"
    }
   ],
   "source": [
    "# use SET search_path TO schema_name if schema is used\n",
    "%sql reset search_path"
   ]
  },
  {
   "cell_type": "code",
   "execution_count": 19,
   "metadata": {
    "collapsed": false
   },
   "outputs": [
    {
     "name": "stdout",
     "output_type": "stream",
     "text": [
      "10 rows affected.\n"
     ]
    },
    {
     "data": {
      "text/html": [
       "<table>\n",
       "    <tr>\n",
       "        <th>index</th>\n",
       "        <th>alcohol_use</th>\n",
       "        <th>anencephaly</th>\n",
       "        <th>attendant</th>\n",
       "        <th>birth_loc_type</th>\n",
       "        <th>birth_month</th>\n",
       "        <th>birth_state</th>\n",
       "        <th>birth_weight</th>\n",
       "        <th>birth_year</th>\n",
       "        <th>cigarette_use</th>\n",
       "        <th>cigarettes_per_day</th>\n",
       "        <th>cigarettes_trimester1</th>\n",
       "        <th>cigarettes_trimester2</th>\n",
       "        <th>cigarettes_trimester3</th>\n",
       "        <th>day</th>\n",
       "        <th>delivery_method</th>\n",
       "        <th>downs syndrome</th>\n",
       "        <th>drinks_per_week</th>\n",
       "        <th>father_age</th>\n",
       "        <th>father_race</th>\n",
       "        <th>gestation_weeks</th>\n",
       "        <th>infant_sex</th>\n",
       "        <th>mother_age</th>\n",
       "        <th>mother_birth_country</th>\n",
       "        <th>mother_birth_state</th>\n",
       "        <th>mother_education</th>\n",
       "        <th>mother_marital_status</th>\n",
       "        <th>mother_race</th>\n",
       "        <th>mother_state</th>\n",
       "        <th>population</th>\n",
       "        <th>pregnancy_weight</th>\n",
       "        <th>resident</th>\n",
       "        <th>revision</th>\n",
       "        <th>spina_bifida</th>\n",
       "        <th>table</th>\n",
       "        <th>timestamp</th>\n",
       "        <th>uses_tobacco</th>\n",
       "        <th>weight_gain</th>\n",
       "    </tr>\n",
       "    <tr>\n",
       "        <td>50</td>\n",
       "        <td>None</td>\n",
       "        <td>None</td>\n",
       "        <td>MD</td>\n",
       "        <td>None</td>\n",
       "        <td>Jan</td>\n",
       "        <td>None</td>\n",
       "        <td>5000.0</td>\n",
       "        <td>2012</td>\n",
       "        <td>None</td>\n",
       "        <td>None</td>\n",
       "        <td>None</td>\n",
       "        <td>None</td>\n",
       "        <td>None</td>\n",
       "        <td>Fri</td>\n",
       "        <td>Vaginal</td>\n",
       "        <td>None</td>\n",
       "        <td>None</td>\n",
       "        <td>None</td>\n",
       "        <td>None</td>\n",
       "        <td>42.0</td>\n",
       "        <td>F</td>\n",
       "        <td>20</td>\n",
       "        <td>None</td>\n",
       "        <td>None</td>\n",
       "        <td>None</td>\n",
       "        <td>Yes</td>\n",
       "        <td>White</td>\n",
       "        <td>None</td>\n",
       "        <td>None</td>\n",
       "        <td>None</td>\n",
       "        <td>Resident</td>\n",
       "        <td>S</td>\n",
       "        <td>None</td>\n",
       "        <td>births12.txt</td>\n",
       "        <td>1325456800</td>\n",
       "        <td>None</td>\n",
       "        <td>30.0</td>\n",
       "    </tr>\n",
       "    <tr>\n",
       "        <td>51</td>\n",
       "        <td>None</td>\n",
       "        <td>None</td>\n",
       "        <td>MD</td>\n",
       "        <td>None</td>\n",
       "        <td>Jan</td>\n",
       "        <td>None</td>\n",
       "        <td>3000.0</td>\n",
       "        <td>2012</td>\n",
       "        <td>None</td>\n",
       "        <td>None</td>\n",
       "        <td>None</td>\n",
       "        <td>None</td>\n",
       "        <td>None</td>\n",
       "        <td>Fri</td>\n",
       "        <td>Vaginal</td>\n",
       "        <td>None</td>\n",
       "        <td>None</td>\n",
       "        <td>None</td>\n",
       "        <td>None</td>\n",
       "        <td>42.0</td>\n",
       "        <td>F</td>\n",
       "        <td>20</td>\n",
       "        <td>None</td>\n",
       "        <td>None</td>\n",
       "        <td>None</td>\n",
       "        <td>Yes</td>\n",
       "        <td>White</td>\n",
       "        <td>None</td>\n",
       "        <td>None</td>\n",
       "        <td>None</td>\n",
       "        <td>Resident</td>\n",
       "        <td>S</td>\n",
       "        <td>None</td>\n",
       "        <td>births12.txt</td>\n",
       "        <td>1326371490</td>\n",
       "        <td>None</td>\n",
       "        <td>32.0</td>\n",
       "    </tr>\n",
       "    <tr>\n",
       "        <td>52</td>\n",
       "        <td>None</td>\n",
       "        <td>None</td>\n",
       "        <td>MD</td>\n",
       "        <td>None</td>\n",
       "        <td>Jan</td>\n",
       "        <td>None</td>\n",
       "        <td>3000.0</td>\n",
       "        <td>2012</td>\n",
       "        <td>None</td>\n",
       "        <td>None</td>\n",
       "        <td>None</td>\n",
       "        <td>None</td>\n",
       "        <td>None</td>\n",
       "        <td>Sun</td>\n",
       "        <td>Vaginal</td>\n",
       "        <td>None</td>\n",
       "        <td>None</td>\n",
       "        <td>None</td>\n",
       "        <td>None</td>\n",
       "        <td>38.0</td>\n",
       "        <td>F</td>\n",
       "        <td>21</td>\n",
       "        <td>None</td>\n",
       "        <td>None</td>\n",
       "        <td>None</td>\n",
       "        <td>No</td>\n",
       "        <td>White</td>\n",
       "        <td>None</td>\n",
       "        <td>None</td>\n",
       "        <td>None</td>\n",
       "        <td>Resident</td>\n",
       "        <td>S</td>\n",
       "        <td>None</td>\n",
       "        <td>births12.txt</td>\n",
       "        <td>1327245443</td>\n",
       "        <td>None</td>\n",
       "        <td>24.0</td>\n",
       "    </tr>\n",
       "    <tr>\n",
       "        <td>53</td>\n",
       "        <td>None</td>\n",
       "        <td>None</td>\n",
       "        <td>MD</td>\n",
       "        <td>None</td>\n",
       "        <td>Feb</td>\n",
       "        <td>None</td>\n",
       "        <td>4000.0</td>\n",
       "        <td>2012</td>\n",
       "        <td>None</td>\n",
       "        <td>None</td>\n",
       "        <td>None</td>\n",
       "        <td>None</td>\n",
       "        <td>None</td>\n",
       "        <td>Wed</td>\n",
       "        <td>Cesarean</td>\n",
       "        <td>None</td>\n",
       "        <td>None</td>\n",
       "        <td>None</td>\n",
       "        <td>None</td>\n",
       "        <td>39.0</td>\n",
       "        <td>M</td>\n",
       "        <td>35</td>\n",
       "        <td>None</td>\n",
       "        <td>None</td>\n",
       "        <td>None</td>\n",
       "        <td>Yes</td>\n",
       "        <td>White</td>\n",
       "        <td>None</td>\n",
       "        <td>None</td>\n",
       "        <td>None</td>\n",
       "        <td>Intra-State/Territor Non-resident (diff county)</td>\n",
       "        <td>S</td>\n",
       "        <td>None</td>\n",
       "        <td>births12.txt</td>\n",
       "        <td>1328148996</td>\n",
       "        <td>None</td>\n",
       "        <td>30.0</td>\n",
       "    </tr>\n",
       "    <tr>\n",
       "        <td>54</td>\n",
       "        <td>None</td>\n",
       "        <td>None</td>\n",
       "        <td>MD</td>\n",
       "        <td>None</td>\n",
       "        <td>Feb</td>\n",
       "        <td>None</td>\n",
       "        <td>3000.0</td>\n",
       "        <td>2012</td>\n",
       "        <td>None</td>\n",
       "        <td>None</td>\n",
       "        <td>None</td>\n",
       "        <td>None</td>\n",
       "        <td>None</td>\n",
       "        <td>Wed</td>\n",
       "        <td>Vaginal</td>\n",
       "        <td>None</td>\n",
       "        <td>None</td>\n",
       "        <td>None</td>\n",
       "        <td>None</td>\n",
       "        <td>38.0</td>\n",
       "        <td>F</td>\n",
       "        <td>29</td>\n",
       "        <td>None</td>\n",
       "        <td>None</td>\n",
       "        <td>None</td>\n",
       "        <td>Yes</td>\n",
       "        <td>White</td>\n",
       "        <td>None</td>\n",
       "        <td>None</td>\n",
       "        <td>None</td>\n",
       "        <td>Resident</td>\n",
       "        <td>S</td>\n",
       "        <td>None</td>\n",
       "        <td>births12.txt</td>\n",
       "        <td>1328933795</td>\n",
       "        <td>None</td>\n",
       "        <td>34.0</td>\n",
       "    </tr>\n",
       "    <tr>\n",
       "        <td>55</td>\n",
       "        <td>None</td>\n",
       "        <td>None</td>\n",
       "        <td>MD</td>\n",
       "        <td>None</td>\n",
       "        <td>Feb</td>\n",
       "        <td>None</td>\n",
       "        <td>2000.0</td>\n",
       "        <td>2012</td>\n",
       "        <td>None</td>\n",
       "        <td>None</td>\n",
       "        <td>None</td>\n",
       "        <td>None</td>\n",
       "        <td>None</td>\n",
       "        <td>Sat</td>\n",
       "        <td>Vaginal</td>\n",
       "        <td>None</td>\n",
       "        <td>None</td>\n",
       "        <td>None</td>\n",
       "        <td>None</td>\n",
       "        <td>31.0</td>\n",
       "        <td>M</td>\n",
       "        <td>27</td>\n",
       "        <td>None</td>\n",
       "        <td>None</td>\n",
       "        <td>None</td>\n",
       "        <td>No</td>\n",
       "        <td>Black</td>\n",
       "        <td>None</td>\n",
       "        <td>None</td>\n",
       "        <td>None</td>\n",
       "        <td>Intra-State/Territor Non-resident (diff county)</td>\n",
       "        <td>S</td>\n",
       "        <td>None</td>\n",
       "        <td>births12.txt</td>\n",
       "        <td>1329753116</td>\n",
       "        <td>None</td>\n",
       "        <td>25.0</td>\n",
       "    </tr>\n",
       "    <tr>\n",
       "        <td>56</td>\n",
       "        <td>None</td>\n",
       "        <td>None</td>\n",
       "        <td>MD</td>\n",
       "        <td>None</td>\n",
       "        <td>Mar</td>\n",
       "        <td>None</td>\n",
       "        <td>4000.0</td>\n",
       "        <td>2012</td>\n",
       "        <td>None</td>\n",
       "        <td>None</td>\n",
       "        <td>None</td>\n",
       "        <td>None</td>\n",
       "        <td>None</td>\n",
       "        <td>Tu</td>\n",
       "        <td>Vaginal</td>\n",
       "        <td>None</td>\n",
       "        <td>None</td>\n",
       "        <td>None</td>\n",
       "        <td>None</td>\n",
       "        <td>40.0</td>\n",
       "        <td>F</td>\n",
       "        <td>18</td>\n",
       "        <td>None</td>\n",
       "        <td>None</td>\n",
       "        <td>None</td>\n",
       "        <td>No</td>\n",
       "        <td>White</td>\n",
       "        <td>None</td>\n",
       "        <td>None</td>\n",
       "        <td>None</td>\n",
       "        <td>Resident</td>\n",
       "        <td>S</td>\n",
       "        <td>None</td>\n",
       "        <td>births12.txt</td>\n",
       "        <td>1330659032</td>\n",
       "        <td>None</td>\n",
       "        <td>50.0</td>\n",
       "    </tr>\n",
       "    <tr>\n",
       "        <td>57</td>\n",
       "        <td>None</td>\n",
       "        <td>None</td>\n",
       "        <td>MD</td>\n",
       "        <td>None</td>\n",
       "        <td>Mar</td>\n",
       "        <td>None</td>\n",
       "        <td>4000.0</td>\n",
       "        <td>2012</td>\n",
       "        <td>None</td>\n",
       "        <td>None</td>\n",
       "        <td>None</td>\n",
       "        <td>None</td>\n",
       "        <td>None</td>\n",
       "        <td>Sun</td>\n",
       "        <td>Vaginal</td>\n",
       "        <td>None</td>\n",
       "        <td>None</td>\n",
       "        <td>None</td>\n",
       "        <td>None</td>\n",
       "        <td>38.0</td>\n",
       "        <td>F</td>\n",
       "        <td>29</td>\n",
       "        <td>None</td>\n",
       "        <td>None</td>\n",
       "        <td>None</td>\n",
       "        <td>Yes</td>\n",
       "        <td>Black</td>\n",
       "        <td>None</td>\n",
       "        <td>None</td>\n",
       "        <td>None</td>\n",
       "        <td>Resident</td>\n",
       "        <td>S</td>\n",
       "        <td>None</td>\n",
       "        <td>births12.txt</td>\n",
       "        <td>1331541002</td>\n",
       "        <td>None</td>\n",
       "        <td>50.0</td>\n",
       "    </tr>\n",
       "    <tr>\n",
       "        <td>58</td>\n",
       "        <td>None</td>\n",
       "        <td>None</td>\n",
       "        <td>MD</td>\n",
       "        <td>None</td>\n",
       "        <td>Mar</td>\n",
       "        <td>None</td>\n",
       "        <td>4000.0</td>\n",
       "        <td>2012</td>\n",
       "        <td>None</td>\n",
       "        <td>None</td>\n",
       "        <td>None</td>\n",
       "        <td>None</td>\n",
       "        <td>None</td>\n",
       "        <td>Mon</td>\n",
       "        <td>Vaginal</td>\n",
       "        <td>None</td>\n",
       "        <td>None</td>\n",
       "        <td>None</td>\n",
       "        <td>None</td>\n",
       "        <td>39.0</td>\n",
       "        <td>F</td>\n",
       "        <td>29</td>\n",
       "        <td>None</td>\n",
       "        <td>None</td>\n",
       "        <td>None</td>\n",
       "        <td>No</td>\n",
       "        <td>White</td>\n",
       "        <td>None</td>\n",
       "        <td>None</td>\n",
       "        <td>None</td>\n",
       "        <td>Resident</td>\n",
       "        <td>S</td>\n",
       "        <td>None</td>\n",
       "        <td>births12.txt</td>\n",
       "        <td>1332469424</td>\n",
       "        <td>None</td>\n",
       "        <td>31.0</td>\n",
       "    </tr>\n",
       "    <tr>\n",
       "        <td>59</td>\n",
       "        <td>None</td>\n",
       "        <td>None</td>\n",
       "        <td>MD</td>\n",
       "        <td>None</td>\n",
       "        <td>Apr</td>\n",
       "        <td>None</td>\n",
       "        <td>4000.0</td>\n",
       "        <td>2012</td>\n",
       "        <td>None</td>\n",
       "        <td>None</td>\n",
       "        <td>None</td>\n",
       "        <td>None</td>\n",
       "        <td>None</td>\n",
       "        <td>Sat</td>\n",
       "        <td>Vaginal</td>\n",
       "        <td>None</td>\n",
       "        <td>None</td>\n",
       "        <td>None</td>\n",
       "        <td>None</td>\n",
       "        <td>39.0</td>\n",
       "        <td>M</td>\n",
       "        <td>30</td>\n",
       "        <td>None</td>\n",
       "        <td>None</td>\n",
       "        <td>None</td>\n",
       "        <td>No</td>\n",
       "        <td>White</td>\n",
       "        <td>None</td>\n",
       "        <td>None</td>\n",
       "        <td>None</td>\n",
       "        <td>Resident</td>\n",
       "        <td>S</td>\n",
       "        <td>None</td>\n",
       "        <td>births12.txt</td>\n",
       "        <td>1333389308</td>\n",
       "        <td>None</td>\n",
       "        <td>3.0</td>\n",
       "    </tr>\n",
       "</table>"
      ],
      "text/plain": [
       "[(50L, None, None, u'MD', None, u'Jan', None, 5000.0, 2012L, None, None, None, None, None, u'Fri', u'Vaginal', None, None, None, None, 42.0, u'F', 20L, None, None, None, u'Yes', u'White', None, None, None, u'Resident', u'S', None, u'births12.txt', 1325456800L, None, 30.0),\n",
       " (51L, None, None, u'MD', None, u'Jan', None, 3000.0, 2012L, None, None, None, None, None, u'Fri', u'Vaginal', None, None, None, None, 42.0, u'F', 20L, None, None, None, u'Yes', u'White', None, None, None, u'Resident', u'S', None, u'births12.txt', 1326371490L, None, 32.0),\n",
       " (52L, None, None, u'MD', None, u'Jan', None, 3000.0, 2012L, None, None, None, None, None, u'Sun', u'Vaginal', None, None, None, None, 38.0, u'F', 21L, None, None, None, u'No', u'White', None, None, None, u'Resident', u'S', None, u'births12.txt', 1327245443L, None, 24.0),\n",
       " (53L, None, None, u'MD', None, u'Feb', None, 4000.0, 2012L, None, None, None, None, None, u'Wed', u'Cesarean', None, None, None, None, 39.0, u'M', 35L, None, None, None, u'Yes', u'White', None, None, None, u'Intra-State/Territor Non-resident (diff county)', u'S', None, u'births12.txt', 1328148996L, None, 30.0),\n",
       " (54L, None, None, u'MD', None, u'Feb', None, 3000.0, 2012L, None, None, None, None, None, u'Wed', u'Vaginal', None, None, None, None, 38.0, u'F', 29L, None, None, None, u'Yes', u'White', None, None, None, u'Resident', u'S', None, u'births12.txt', 1328933795L, None, 34.0),\n",
       " (55L, None, None, u'MD', None, u'Feb', None, 2000.0, 2012L, None, None, None, None, None, u'Sat', u'Vaginal', None, None, None, None, 31.0, u'M', 27L, None, None, None, u'No', u'Black', None, None, None, u'Intra-State/Territor Non-resident (diff county)', u'S', None, u'births12.txt', 1329753116L, None, 25.0),\n",
       " (56L, None, None, u'MD', None, u'Mar', None, 4000.0, 2012L, None, None, None, None, None, u'Tu', u'Vaginal', None, None, None, None, 40.0, u'F', 18L, None, None, None, u'No', u'White', None, None, None, u'Resident', u'S', None, u'births12.txt', 1330659032L, None, 50.0),\n",
       " (57L, None, None, u'MD', None, u'Mar', None, 4000.0, 2012L, None, None, None, None, None, u'Sun', u'Vaginal', None, None, None, None, 38.0, u'F', 29L, None, None, None, u'Yes', u'Black', None, None, None, u'Resident', u'S', None, u'births12.txt', 1331541002L, None, 50.0),\n",
       " (58L, None, None, u'MD', None, u'Mar', None, 4000.0, 2012L, None, None, None, None, None, u'Mon', u'Vaginal', None, None, None, None, 39.0, u'F', 29L, None, None, None, u'No', u'White', None, None, None, u'Resident', u'S', None, u'births12.txt', 1332469424L, None, 31.0),\n",
       " (59L, None, None, u'MD', None, u'Apr', None, 4000.0, 2012L, None, None, None, None, None, u'Sat', u'Vaginal', None, None, None, None, 39.0, u'M', 30L, None, None, None, u'No', u'White', None, None, None, u'Resident', u'S', None, u'births12.txt', 1333389308L, None, 3.0)]"
      ]
     },
     "execution_count": 19,
     "metadata": {},
     "output_type": "execute_result"
    }
   ],
   "source": [
    "%%sql\n",
    "SELECT * FROM birth_data_table # * means select all columns\n",
    "LIMIT 10  # only return 10 rows\n",
    "OFFSET 50  # start at row 50"
   ]
  },
  {
   "cell_type": "markdown",
   "metadata": {},
   "source": [
    "What is the most common day for a delivery?"
   ]
  },
  {
   "cell_type": "markdown",
   "metadata": {},
   "source": [
    "Let's first create a view containing the days of the week and the count for each day"
   ]
  },
  {
   "cell_type": "code",
   "execution_count": 43,
   "metadata": {
    "collapsed": false
   },
   "outputs": [
    {
     "name": "stdout",
     "output_type": "stream",
     "text": [
      "(psycopg2.ProgrammingError) relation \"day_counts\" already exists\n",
      " [SQL: 'CREATE VIEW day_counts AS\\nSELECT day, COUNT(*) AS count\\nFROM birth_data_table\\nGROUP BY day']\n"
     ]
    }
   ],
   "source": [
    "%%sql \n",
    "CREATE VIEW day_counts AS\n",
    "SELECT day, COUNT(*) AS count\n",
    "FROM birth_data_table\n",
    "GROUP BY day"
   ]
  },
  {
   "cell_type": "code",
   "execution_count": 44,
   "metadata": {
    "collapsed": false
   },
   "outputs": [
    {
     "name": "stdout",
     "output_type": "stream",
     "text": [
      "7 rows affected.\n"
     ]
    },
    {
     "data": {
      "text/html": [
       "<table>\n",
       "    <tr>\n",
       "        <th>day</th>\n",
       "        <th>count</th>\n",
       "    </tr>\n",
       "    <tr>\n",
       "        <td>Tu</td>\n",
       "        <td>449</td>\n",
       "    </tr>\n",
       "    <tr>\n",
       "        <td>Sat</td>\n",
       "        <td>307</td>\n",
       "    </tr>\n",
       "    <tr>\n",
       "        <td>Mon</td>\n",
       "        <td>403</td>\n",
       "    </tr>\n",
       "    <tr>\n",
       "        <td>Wed</td>\n",
       "        <td>415</td>\n",
       "    </tr>\n",
       "    <tr>\n",
       "        <td>Sun</td>\n",
       "        <td>281</td>\n",
       "    </tr>\n",
       "    <tr>\n",
       "        <td>Th</td>\n",
       "        <td>432</td>\n",
       "    </tr>\n",
       "    <tr>\n",
       "        <td>Fri</td>\n",
       "        <td>429</td>\n",
       "    </tr>\n",
       "</table>"
      ],
      "text/plain": [
       "[(u'Tu', 449L),\n",
       " (u'Sat', 307L),\n",
       " (u'Mon', 403L),\n",
       " (u'Wed', 415L),\n",
       " (u'Sun', 281L),\n",
       " (u'Th', 432L),\n",
       " (u'Fri', 429L)]"
      ]
     },
     "execution_count": 44,
     "metadata": {},
     "output_type": "execute_result"
    }
   ],
   "source": [
    "%sql SELECT * FROM day_counts"
   ]
  },
  {
   "cell_type": "markdown",
   "metadata": {},
   "source": [
    "We can view this table ordered by count."
   ]
  },
  {
   "cell_type": "code",
   "execution_count": 46,
   "metadata": {
    "collapsed": false
   },
   "outputs": [
    {
     "name": "stdout",
     "output_type": "stream",
     "text": [
      "7 rows affected.\n"
     ]
    },
    {
     "data": {
      "text/html": [
       "<table>\n",
       "    <tr>\n",
       "        <th>day</th>\n",
       "        <th>count</th>\n",
       "    </tr>\n",
       "    <tr>\n",
       "        <td>Tu</td>\n",
       "        <td>449</td>\n",
       "    </tr>\n",
       "    <tr>\n",
       "        <td>Th</td>\n",
       "        <td>432</td>\n",
       "    </tr>\n",
       "    <tr>\n",
       "        <td>Fri</td>\n",
       "        <td>429</td>\n",
       "    </tr>\n",
       "    <tr>\n",
       "        <td>Wed</td>\n",
       "        <td>415</td>\n",
       "    </tr>\n",
       "    <tr>\n",
       "        <td>Mon</td>\n",
       "        <td>403</td>\n",
       "    </tr>\n",
       "    <tr>\n",
       "        <td>Sat</td>\n",
       "        <td>307</td>\n",
       "    </tr>\n",
       "    <tr>\n",
       "        <td>Sun</td>\n",
       "        <td>281</td>\n",
       "    </tr>\n",
       "</table>"
      ],
      "text/plain": [
       "[(u'Tu', 449L),\n",
       " (u'Th', 432L),\n",
       " (u'Fri', 429L),\n",
       " (u'Wed', 415L),\n",
       " (u'Mon', 403L),\n",
       " (u'Sat', 307L),\n",
       " (u'Sun', 281L)]"
      ]
     },
     "execution_count": 46,
     "metadata": {},
     "output_type": "execute_result"
    }
   ],
   "source": [
    "%%sql \n",
    "SELECT * \n",
    "FROM day_counts \n",
    "ORDER BY count DESC  # order in descending"
   ]
  },
  {
   "cell_type": "markdown",
   "metadata": {},
   "source": [
    "For a solution with one query and one sub-query, see below. Note that this solution creates a temporary table instead of a view."
   ]
  },
  {
   "cell_type": "code",
   "execution_count": 62,
   "metadata": {
    "collapsed": false
   },
   "outputs": [
    {
     "name": "stdout",
     "output_type": "stream",
     "text": [
      "1 rows affected.\n"
     ]
    },
    {
     "data": {
      "text/html": [
       "<table>\n",
       "    <tr>\n",
       "        <th>day</th>\n",
       "    </tr>\n",
       "    <tr>\n",
       "        <td>Tu</td>\n",
       "    </tr>\n",
       "</table>"
      ],
      "text/plain": [
       "[(u'Tu',)]"
      ]
     },
     "execution_count": 62,
     "metadata": {},
     "output_type": "execute_result"
    }
   ],
   "source": [
    "%%sql\n",
    "SELECT day\n",
    "FROM (SELECT day, COUNT(*) AS count  # the parentheses enclose a subquery\n",
    "      FROM birth_data_table\n",
    "      GROUP BY day\n",
    "     ) AS day_counts  # name the temporary table\n",
    "WHERE count = (SELECT MAX(count) FROM day_counts)"
   ]
  },
  {
   "cell_type": "code",
   "execution_count": null,
   "metadata": {
    "collapsed": true
   },
   "outputs": [],
   "source": []
  }
 ],
 "metadata": {
  "anaconda-cloud": {},
  "kernelspec": {
   "display_name": "Python [conda env:my_insight_env]",
   "language": "python",
   "name": "conda-env-my_insight_env-py"
  },
  "language_info": {
   "codemirror_mode": {
    "name": "ipython",
    "version": 2
   },
   "file_extension": ".py",
   "mimetype": "text/x-python",
   "name": "python",
   "nbconvert_exporter": "python",
   "pygments_lexer": "ipython2",
   "version": "2.7.13"
  }
 },
 "nbformat": 4,
 "nbformat_minor": 1
}
